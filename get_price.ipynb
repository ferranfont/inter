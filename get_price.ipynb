{
 "cells": [
  {
   "cell_type": "code",
   "execution_count": 1,
   "id": "edc90378",
   "metadata": {},
   "outputs": [],
   "source": [
    "import yfinance as yf\n",
    "import matplotlib.pyplot as plt\n",
    "from scipy.stats import chi2_contingency\n",
    "import seaborn as sns\n",
    "import pandas as pd\n",
    "import requests\n",
    "import re\n",
    "import time\n",
    "import numpy as np\n",
    "import holidays\n",
    "from datetime import datetime, timedelta\n",
    "import time\n",
    "from scipy.stats import skew, kurtosis\n",
    "import ast\n",
    "from polygon import RESTClient\n",
    "from polygon.rest.models.request import RequestOptionBuilder\n",
    "api_key = \"HsOX1rl8t3B1AJfl4O2uqscUp372l7EF\"\n",
    "ticker = \"SPY240802C00530000\"\n",
    "from scipy.stats import kurtosis, skew\n",
    "import warnings\n",
    "pd.set_option('display.max_columns', None)\n",
    "warnings.filterwarnings(\"ignore\")\n",
    "from requests.exceptions import HTTPError"
   ]
  },
  {
   "cell_type": "code",
   "execution_count": 2,
   "id": "a6513786",
   "metadata": {},
   "outputs": [],
   "source": [
    "date = \"2024-07-29\"\n",
    "type =\"P\"\n",
    "strike = 545"
   ]
  },
  {
   "cell_type": "code",
   "execution_count": 3,
   "id": "3592646c",
   "metadata": {},
   "outputs": [],
   "source": [
    "# Define US holidays for the year 2024\n",
    "us_holidays = holidays.US(years=2024)\n",
    "\n",
    "# Function to calculate the next working day\n",
    "def next_working_day(date):\n",
    "    next_day = date + timedelta(days=1)\n",
    "    \n",
    "    # Check if the next day is a weekend or holiday and adjust accordingly\n",
    "    while next_day.weekday() in (5, 6) or next_day in us_holidays:\n",
    "        next_day += timedelta(days=1)\n",
    "    \n",
    "    return next_day\n",
    "next_work = datetime.strptime(date, '%Y-%m-%d')\n",
    "next_working_date = next_working_day(next_work)"
   ]
  },
  {
   "cell_type": "code",
   "execution_count": 4,
   "id": "fe311e35",
   "metadata": {},
   "outputs": [
    {
     "name": "stdout",
     "output_type": "stream",
     "text": [
      "Trading Date: 2024-07-29\n",
      "Expiration Date: 2024-07-30\n",
      "Ticker: SPY240730P00545000\n"
     ]
    }
   ],
   "source": [
    "# Function to calculate the next working day\n",
    "def next_working_day(date):\n",
    "    next_day = date + timedelta(days=1)\n",
    "    \n",
    "    # Check if the next day is a weekend or holiday and adjust accordingly\n",
    "    while next_day.weekday() in (5, 6) or next_day in us_holidays:\n",
    "        next_day += timedelta(days=1)\n",
    "    \n",
    "    return next_day\n",
    "\n",
    "# Calculate the next working day\n",
    "next_work = datetime.strptime(date, '%Y-%m-%d')\n",
    "next_working_date = next_working_day(next_work)\n",
    "expiration_date = next_working_date.strftime(\"%y%m%d\")\n",
    "\n",
    "# Print the result\n",
    "print(f\"Trading Date: {date}\")\n",
    "print(f\"Expiration Date: {next_working_date.strftime('%Y-%m-%d')}\")\n",
    "\n",
    "\n",
    "# Function to replace the strike value in the given string\n",
    "def replace_strike(symbol, strike, expiration_date):\n",
    "    # Format the strike value to be 8 digits long, padded with zeros\n",
    "    formatted_strike = f\"{strike * 1000:08d}\"  # Multiply by 1000 to get the correct format\n",
    "    # Construct the new symbol\n",
    "    new_symbol = f\"SPY{expiration_date}{type}{formatted_strike}\"\n",
    "    return new_symbol\n",
    "expiration_date = next_working_date.strftime(\"%y%m%d\")\n",
    "# Replace the date and strike in the ticker\n",
    "ticker = replace_strike(ticker, strike, expiration_date)\n",
    "print(f\"Ticker: {ticker}\")"
   ]
  },
  {
   "cell_type": "code",
   "execution_count": 5,
   "id": "64113d2b",
   "metadata": {},
   "outputs": [],
   "source": [
    "def get_option_price(ticker, date):\n",
    "    # Convert the date to the correct format (YYYY-MM-DD)\n",
    "    API_KEY = 'HsOX1rl8t3B1AJfl4O2uqscUp372l7EF'\n",
    "    url = f\"https://api.polygon.io/v1/open-close/O:{ticker}/{date}?adjusted=true&apiKey={API_KEY}\"\n",
    "    print(url)  # For debugging purposes\n",
    "    response = requests.get(url)\n",
    "    \n",
    "    if response.status_code == 200:\n",
    "        try:\n",
    "            data = response.json()\n",
    "            if 'close' in data:\n",
    "                return data['close']\n",
    "            else:\n",
    "                raise ValueError(\"Response JSON does not contain 'close' key\")\n",
    "        except ValueError as e:\n",
    "            print(f\"Error parsing JSON: {e}\")\n",
    "    else:\n",
    "        print(f\"Request failed with status code {response.status_code}\")\n",
    "    return None"
   ]
  },
  {
   "cell_type": "code",
   "execution_count": 6,
   "id": "01630be5",
   "metadata": {},
   "outputs": [
    {
     "name": "stdout",
     "output_type": "stream",
     "text": [
      "https://api.polygon.io/v1/open-close/O:SPY240730P00545000/2024-07-29?adjusted=true&apiKey=HsOX1rl8t3B1AJfl4O2uqscUp372l7EF\n",
      "https://api.polygon.io/v1/open-close/O:SPY240730P00545000/2024-07-30?adjusted=true&apiKey=HsOX1rl8t3B1AJfl4O2uqscUp372l7EF\n",
      "Precio de apertura: 217.0\n",
      "Precio de cierre  : 595.0\n",
      "Beneficio: 37800.0$- 174.0%\n"
     ]
    }
   ],
   "source": [
    "open_trade_price = get_option_price(ticker, date) *100\n",
    "close_trade_date = next_working_date.date() \n",
    "close_trade_price = get_option_price(ticker, close_trade_date) *100\n",
    "beneficio = close_trade_price - open_trade_price\n",
    "perc = beneficio*100/open_trade_price\n",
    "beneficio = round(beneficio,0)*100\n",
    "perc = round(perc,0) \n",
    "print(f\"Precio de apertura: {open_trade_price}\")\n",
    "print(f\"Precio de cierre  : {close_trade_price}\")\n",
    "print(f\"Beneficio: {beneficio}$- {perc}%\")"
   ]
  },
  {
   "cell_type": "code",
   "execution_count": null,
   "id": "5c0a651f",
   "metadata": {},
   "outputs": [],
   "source": []
  },
  {
   "cell_type": "code",
   "execution_count": null,
   "id": "ffe2c876",
   "metadata": {},
   "outputs": [],
   "source": []
  },
  {
   "cell_type": "code",
   "execution_count": null,
   "id": "e265a357",
   "metadata": {},
   "outputs": [],
   "source": []
  },
  {
   "cell_type": "code",
   "execution_count": null,
   "id": "89b5417f",
   "metadata": {},
   "outputs": [],
   "source": []
  },
  {
   "cell_type": "code",
   "execution_count": null,
   "id": "0f34ace0",
   "metadata": {},
   "outputs": [],
   "source": []
  },
  {
   "cell_type": "code",
   "execution_count": null,
   "id": "c84cadfa",
   "metadata": {},
   "outputs": [],
   "source": []
  }
 ],
 "metadata": {
  "kernelspec": {
   "display_name": "Python 3 (ipykernel)",
   "language": "python",
   "name": "python3"
  },
  "language_info": {
   "codemirror_mode": {
    "name": "ipython",
    "version": 3
   },
   "file_extension": ".py",
   "mimetype": "text/x-python",
   "name": "python",
   "nbconvert_exporter": "python",
   "pygments_lexer": "ipython3",
   "version": "3.10.9"
  }
 },
 "nbformat": 4,
 "nbformat_minor": 5
}
