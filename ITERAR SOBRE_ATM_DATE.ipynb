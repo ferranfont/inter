{
 "cells": [
  {
   "cell_type": "code",
   "execution_count": 1,
   "id": "3e31962a",
   "metadata": {},
   "outputs": [],
   "source": [
    "import requests\n",
    "import pandas as pd\n",
    "import ivolatility as ivol\n",
    "import matplotlib.pyplot as plt\n",
    "import numpy as np\n",
    "import holidays\n",
    "import time\n",
    "\n",
    "# ivolatility connection\n",
    "apiKey = '7ANa7nqtg2RWt7n5'\n",
    "#apiKey = 'fFF8EEL54op7k0DN'\n",
    "ivol.setLoginParams(apiKey=apiKey)"
   ]
  },
  {
   "cell_type": "code",
   "execution_count": 2,
   "id": "8e82d3d9",
   "metadata": {},
   "outputs": [],
   "source": [
    "# Variables\n",
    "symbol = 'DELL'\n",
    "date = '2024-04-30'\n",
    "acciones = [\"TSLA\", \"BA\", \"FDX\", \"BAC\", \"DIS\"]"
   ]
  },
  {
   "cell_type": "markdown",
   "id": "1bc5f850",
   "metadata": {},
   "source": [
    "Datos complementarios "
   ]
  },
  {
   "cell_type": "code",
   "execution_count": 3,
   "id": "63fc8cf9",
   "metadata": {},
   "outputs": [
    {
     "data": {
      "text/html": [
       "<div>\n",
       "<style scoped>\n",
       "    .dataframe tbody tr th:only-of-type {\n",
       "        vertical-align: middle;\n",
       "    }\n",
       "\n",
       "    .dataframe tbody tr th {\n",
       "        vertical-align: top;\n",
       "    }\n",
       "\n",
       "    .dataframe thead th {\n",
       "        text-align: right;\n",
       "    }\n",
       "</style>\n",
       "<table border=\"1\" class=\"dataframe\">\n",
       "  <thead>\n",
       "    <tr style=\"text-align: right;\">\n",
       "      <th></th>\n",
       "      <th>record_no</th>\n",
       "      <th>date</th>\n",
       "      <th>symbol</th>\n",
       "      <th>exchange</th>\n",
       "      <th>open</th>\n",
       "      <th>high</th>\n",
       "      <th>low</th>\n",
       "      <th>close</th>\n",
       "      <th>volume</th>\n",
       "      <th>unadjusted_close</th>\n",
       "    </tr>\n",
       "  </thead>\n",
       "  <tbody>\n",
       "    <tr>\n",
       "      <th>0</th>\n",
       "      <td>1</td>\n",
       "      <td>2024-04-30</td>\n",
       "      <td>DELL</td>\n",
       "      <td>NYSE</td>\n",
       "      <td>126.25</td>\n",
       "      <td>126.99</td>\n",
       "      <td>123.84</td>\n",
       "      <td>124.64</td>\n",
       "      <td>4420082</td>\n",
       "      <td>124.64</td>\n",
       "    </tr>\n",
       "  </tbody>\n",
       "</table>\n",
       "</div>"
      ],
      "text/plain": [
       "   record_no        date symbol exchange    open    high     low   close  \\\n",
       "0          1  2024-04-30   DELL     NYSE  126.25  126.99  123.84  124.64   \n",
       "\n",
       "    volume  unadjusted_close  \n",
       "0  4420082            124.64  "
      ]
     },
     "execution_count": 3,
     "metadata": {},
     "output_type": "execute_result"
    }
   ],
   "source": [
    "# Get stock EOD Price\n",
    "def fetch_eod_stock_prices(api_key, symbol, date):\n",
    "    url = f\"https://restapi.ivolatility.com/equities/eod/stock-prices?apiKey={api_key}&symbol={symbol}&date={date}\"\n",
    "    response = requests.get(url)\n",
    "    data = response.json()\n",
    "    # Assuming the relevant data is under the 'data' key\n",
    "    df = pd.DataFrame(data['data'])\n",
    "    return df\n",
    "Current = fetch_eod_stock_prices('fFF8EEL54op7k0DN', symbol, date)\n",
    "Current"
   ]
  },
  {
   "cell_type": "code",
   "execution_count": 4,
   "id": "b227316f",
   "metadata": {},
   "outputs": [
    {
     "data": {
      "text/html": [
       "<div>\n",
       "<style scoped>\n",
       "    .dataframe tbody tr th:only-of-type {\n",
       "        vertical-align: middle;\n",
       "    }\n",
       "\n",
       "    .dataframe tbody tr th {\n",
       "        vertical-align: top;\n",
       "    }\n",
       "\n",
       "    .dataframe thead th {\n",
       "        text-align: right;\n",
       "    }\n",
       "</style>\n",
       "<table border=\"1\" class=\"dataframe\">\n",
       "  <thead>\n",
       "    <tr style=\"text-align: right;\">\n",
       "      <th></th>\n",
       "      <th>record_no</th>\n",
       "      <th>symbol</th>\n",
       "      <th>exchange</th>\n",
       "      <th>date</th>\n",
       "      <th>price</th>\n",
       "      <th>10d HV</th>\n",
       "      <th>20d HV</th>\n",
       "      <th>30d HV</th>\n",
       "      <th>60d HV</th>\n",
       "      <th>90d HV</th>\n",
       "      <th>120d HV</th>\n",
       "      <th>150d HV</th>\n",
       "      <th>180d HV</th>\n",
       "    </tr>\n",
       "  </thead>\n",
       "  <tbody>\n",
       "    <tr>\n",
       "      <th>0</th>\n",
       "      <td>1</td>\n",
       "      <td>DELL</td>\n",
       "      <td>NYSE</td>\n",
       "      <td>2024-04-30</td>\n",
       "      <td>124.64</td>\n",
       "      <td>0.391822</td>\n",
       "      <td>0.517707</td>\n",
       "      <td>0.469334</td>\n",
       "      <td>0.713422</td>\n",
       "      <td>0.613079</td>\n",
       "      <td>0.548371</td>\n",
       "      <td>0.503624</td>\n",
       "      <td>0.520878</td>\n",
       "    </tr>\n",
       "  </tbody>\n",
       "</table>\n",
       "</div>"
      ],
      "text/plain": [
       "   record_no symbol exchange        date   price    10d HV    20d HV  \\\n",
       "0          1   DELL     NYSE  2024-04-30  124.64  0.391822  0.517707   \n",
       "\n",
       "     30d HV    60d HV    90d HV   120d HV   150d HV   180d HV  \n",
       "0  0.469334  0.713422  0.613079  0.548371  0.503624  0.520878  "
      ]
     },
     "execution_count": 4,
     "metadata": {},
     "output_type": "execute_result"
    }
   ],
   "source": [
    "getMarketData = ivol.setMethod('/equities/eod/hv')\n",
    "marketData = getMarketData(symbol=symbol, date=date)\n",
    "df_H = pd.DataFrame(marketData)\n",
    "df_H"
   ]
  },
  {
   "cell_type": "markdown",
   "id": "a0414f9e",
   "metadata": {},
   "source": [
    "Funciones Get IV and Get HV"
   ]
  },
  {
   "cell_type": "code",
   "execution_count": 5,
   "id": "ef897792",
   "metadata": {},
   "outputs": [],
   "source": [
    "def incremental_pause(initial_pause=10, increment=3, state={'current_pause': None}):\n",
    "    \"\"\"\n",
    "    Pause the execution incrementally each time the function is called.\n",
    "\n",
    "    Args:\n",
    "    - initial_pause (int): Initial pause duration in seconds.\n",
    "    - increment (int): Amount to increment the pause by with each call.\n",
    "    - state (dict): Mutable default argument to maintain state across function calls.\n",
    "    \"\"\"\n",
    "    if state['current_pause'] is None:\n",
    "        state['current_pause'] = initial_pause\n",
    "    else:\n",
    "        state['current_pause'] += increment\n",
    "\n",
    "    print(f\"Pausing for {state['current_pause']} seconds...\")\n",
    "    time.sleep(state['current_pause'])"
   ]
  },
  {
   "cell_type": "code",
   "execution_count": 6,
   "id": "3959676e",
   "metadata": {},
   "outputs": [
    {
     "name": "stdout",
     "output_type": "stream",
     "text": [
      "Working days excluding all holidays:\n",
      "335\n"
     ]
    }
   ],
   "source": [
    "def create_working_days(start_date, end_date, country='US'):\n",
    "    # Generate a date range for all days between start and end\n",
    "    all_days = pd.date_range(start=start_date, end=end_date, freq='D')\n",
    "    \n",
    "    # Fetch holidays for the given country in the range of years\n",
    "    us_holidays = holidays.CountryHoliday(country, years=[start_date.year, end_date.year])\n",
    "    \n",
    "    # Filter out weekends and holidays, and format dates as strings\n",
    "    working_days = [day.strftime('%Y-%m-%d') for day in all_days if day.weekday() < 5 and day not in us_holidays]\n",
    "    \n",
    "    return working_days\n",
    "\n",
    "# Example usage: create a list of working days from January 1, 2024, to May 3, 2024\n",
    "date_range = create_working_days(pd.Timestamp('2023-01-01'), pd.Timestamp('2024-05-03'))\n",
    "\n",
    "# List of additional federal holidays to consider\n",
    "federal_holidays_list = [\n",
    "    '2024-01-01', '2024-01-15', '2024-02-19','2024-03-29', '2024-05-27', '2024-07-04',\n",
    "    '2024-09-02', '2024-10-14', '2024-11-11', '2024-11-28', '2024-12-25'\n",
    "]\n",
    "\n",
    "# Convert both the generated date range and federal holidays list to sets\n",
    "date_range_set = set(date_range)\n",
    "federal_holidays_set = set(federal_holidays_list)\n",
    "\n",
    "# Subtract the federal holidays from the date range\n",
    "working_days_final = date_range_set - federal_holidays_set\n",
    "\n",
    "# Convert the set back to sorted list\n",
    "date_range = sorted(list(working_days_final))\n",
    "\n",
    "print(\"Working days excluding all holidays:\")\n",
    "print(len(date_range))"
   ]
  },
  {
   "cell_type": "code",
   "execution_count": 7,
   "id": "761b7208",
   "metadata": {},
   "outputs": [
    {
     "name": "stdout",
     "output_type": "stream",
     "text": [
      "DELL  240621P00120000\n"
     ]
    },
    {
     "data": {
      "text/html": [
       "<div>\n",
       "<style scoped>\n",
       "    .dataframe tbody tr th:only-of-type {\n",
       "        vertical-align: middle;\n",
       "    }\n",
       "\n",
       "    .dataframe tbody tr th {\n",
       "        vertical-align: top;\n",
       "    }\n",
       "\n",
       "    .dataframe thead th {\n",
       "        text-align: right;\n",
       "    }\n",
       "</style>\n",
       "<table border=\"1\" class=\"dataframe\">\n",
       "  <thead>\n",
       "    <tr style=\"text-align: right;\">\n",
       "      <th></th>\n",
       "      <th>option_id</th>\n",
       "      <th>option_symbol</th>\n",
       "      <th>comment</th>\n",
       "    </tr>\n",
       "  </thead>\n",
       "  <tbody>\n",
       "    <tr>\n",
       "      <th>0</th>\n",
       "      <td>130694032</td>\n",
       "      <td>DELL  240621P00120000</td>\n",
       "      <td>NaN</td>\n",
       "    </tr>\n",
       "    <tr>\n",
       "      <th>1</th>\n",
       "      <td>130750066</td>\n",
       "      <td>DELL  240621P00125000</td>\n",
       "      <td>NaN</td>\n",
       "    </tr>\n",
       "  </tbody>\n",
       "</table>\n",
       "</div>"
      ],
      "text/plain": [
       "   option_id          option_symbol  comment\n",
       "0  130694032  DELL  240621P00120000      NaN\n",
       "1  130750066  DELL  240621P00125000      NaN"
      ]
     },
     "execution_count": 7,
     "metadata": {},
     "output_type": "execute_result"
    }
   ],
   "source": [
    "# Get Nearest Option Price\n",
    "getMarketData = ivol.setMethod('/equities/eod/nearest-option-tickers')\n",
    "marketData = getMarketData(symbol=symbol, startingDate=date, dte=60, moneyness=0, callPut='P')\n",
    "df_near = pd.DataFrame(marketData)\n",
    "first_option_id = df_near.iloc[0][\"option_id\"]\n",
    "first_option_symbol= df_near.iloc[0][\"option_symbol\"]\n",
    "print(first_option_symbol)\n",
    "df_near"
   ]
  },
  {
   "cell_type": "code",
   "execution_count": 8,
   "id": "51b9727a",
   "metadata": {},
   "outputs": [],
   "source": [
    "def get_nearest_option_price(symbol, date):\n",
    "    \"\"\"\n",
    "    Fetch the nearest option price for a given symbol and date.\n",
    "\n",
    "    Parameters:\n",
    "    symbol (str): Stock symbol.\n",
    "    date (str): Starting date in YYYY-MM-DD format.\n",
    "\n",
    "    Returns:\n",
    "    tuple: A tuple containing the first option symbol and its DataFrame.\n",
    "    \"\"\"\n",
    "    # Set method and fetch market data\n",
    "    getMarketData = ivol.setMethod('/equities/eod/nearest-option-tickers')\n",
    "    marketData = getMarketData(symbol=symbol, startingDate=date, dte=60, moneyness=0, callPut='P')\n",
    "    \n",
    "    # Create DataFrame from market data\n",
    "    df_near = pd.DataFrame(marketData)\n",
    "    \n",
    "    # Extract the first option's ID and symbol\n",
    "    first_option_id = df_near.iloc[0][\"option_id\"]\n",
    "    first_option_symbol = df_near.iloc[0][\"option_symbol\"]\n",
    "    \n",
    "    # Print the first option symbol (optional)\n",
    "    print(first_option_symbol)\n",
    "    \n",
    "    return first_option_symbol"
   ]
  },
  {
   "cell_type": "code",
   "execution_count": 9,
   "id": "fa22342a",
   "metadata": {},
   "outputs": [
    {
     "name": "stdout",
     "output_type": "stream",
     "text": [
      "DELL  240621P00120000\n"
     ]
    }
   ],
   "source": [
    "first_option_symbol = get_nearest_option_price(symbol, date)\n",
    "#print(first_option_symbol)"
   ]
  },
  {
   "cell_type": "code",
   "execution_count": 10,
   "id": "476d1931",
   "metadata": {},
   "outputs": [],
   "source": [
    "def getMarketData(symbol, date):\n",
    "\n",
    "    getMarketData = ivol.setMethod('/equities/eod/hv')\n",
    "    marketData = getMarketData(symbol=symbol, date=date)\n",
    "    df_H = pd.DataFrame(marketData)\n",
    "    # Asignar el valor de '180d HV' a la variable HistVol\n",
    "    HistVol = df_H['180d HV'].iloc[0] \n",
    "    return HistVol"
   ]
  },
  {
   "cell_type": "code",
   "execution_count": 11,
   "id": "0a9872d8",
   "metadata": {},
   "outputs": [],
   "source": [
    "def get_IV(first_option_symbol, date):\n",
    "    \"\"\"\n",
    "    Obtiene la volatilidad implícita para una opción específica en una fecha dada, filtrando por columnas específicas.\n",
    "    Retorna:\n",
    "    Un DataFrame de pandas con la última entrada de la volatilidad implícita, incluyendo solo las columnas especificadas.\n",
    "    \"\"\"\n",
    "    # Suponiendo que 'ivol' es un objeto global o está definido previamente\n",
    "    # Configurar el método de obtención de datos del mercado\n",
    "    getMarketData = ivol.setMethod('/equities/intraday/single-equity-optionsymbol-rawiv')\n",
    "    marketData = getMarketData(optionSymbol=first_option_symbol, date=date, minuteType='HOUR')\n",
    "    # Convertir los datos del mercado en un DataFrame\n",
    "    df_IV = pd.DataFrame(marketData)\n",
    "    # Filtrar las columnas deseadas\n",
    "    columns = ['timestamp', 'stockSymbol', 'underlyingPrice', 'optionBidPrice', 'optionAskPrice','optionIv', 'optionDelta', 'optionGamma', 'optionTheta', 'optionVega']\n",
    "    df_IV = df_IV[columns]\n",
    "    \n",
    "    return df_IV.tail(1)"
   ]
  },
  {
   "cell_type": "markdown",
   "id": "3e4ae37c",
   "metadata": {},
   "source": [
    "Ejecución de la petición al servidor"
   ]
  },
  {
   "cell_type": "code",
   "execution_count": null,
   "id": "48180878",
   "metadata": {},
   "outputs": [
    {
     "name": "stdout",
     "output_type": "stream",
     "text": [
      "DELL  230317P00040000\n",
      "2023-01-03 0.443761              timestamp stockSymbol  underlyingPrice  optionBidPrice  \\\n",
      "6  2023-01-03 16:00:00        DELL           40.915            2.23   \n",
      "\n",
      "   optionAskPrice  optionIv  optionDelta  optionGamma  optionTheta  optionVega  \n",
      "6            2.31    0.3768     -0.41708     0.058501     -0.01633     0.07088   Volat_hist 0.443761 DELL  230317P00040000\n",
      "\n",
      "\n",
      "Pausing for 10 seconds...\n",
      "DELL  230317P00040000\n",
      "2023-01-04 0.44356              timestamp stockSymbol  underlyingPrice  optionBidPrice  \\\n",
      "6  2023-01-04 16:00:00        DELL           40.895            2.18   \n",
      "\n",
      "   optionAskPrice  optionIv  optionDelta  optionGamma  optionTheta  optionVega  \n",
      "6            2.24    0.3694     -0.41801     0.060164    -0.016097     0.07038   Volat_hist 0.44356 DELL  230317P00040000\n",
      "\n",
      "\n",
      "Pausing for 13 seconds...\n",
      "DELL  230317P00040000\n",
      "2023-01-05 0.443318              timestamp stockSymbol  underlyingPrice  optionBidPrice  \\\n",
      "6  2023-01-05 16:00:00        DELL           40.865            2.24   \n",
      "\n",
      "   optionAskPrice  optionIv  optionDelta  optionGamma  optionTheta  optionVega  \n",
      "6            2.29    0.3778     -0.42015     0.059312     -0.01662     0.06989   Volat_hist 0.443318 DELL  230317P00040000\n",
      "\n",
      "\n",
      "Pausing for 16 seconds...\n",
      "DELL  230317P00040000\n",
      "2023-01-06 0.44487              timestamp stockSymbol  underlyingPrice  optionBidPrice  \\\n",
      "6  2023-01-06 16:00:00        DELL            42.37            1.59   \n",
      "\n",
      "   optionAskPrice  optionIv  optionDelta  optionGamma  optionTheta  optionVega  \n",
      "6            1.64    0.3683     -0.33261     0.054625    -0.015956     0.06653   Volat_hist 0.44487 DELL  230317P00040000\n",
      "\n",
      "\n",
      "Pausing for 19 seconds...\n"
     ]
    }
   ],
   "source": [
    "#date_range = ['2024-04-04']\n",
    "# Iterar sobre el rango de fechas y obtener la volatilidad implícita para cada fecha\n",
    "results = []\n",
    "for date in date_range:\n",
    "    symbol = symbol\n",
    "    first_option_symbol = get_nearest_option_price(symbol, date)\n",
    "    HistVol = getMarketData(symbol, date)\n",
    "    iv_data = get_IV(first_option_symbol=first_option_symbol, date=date) \n",
    "    #HistVol = getMarketData(first_option_symbol=first_option_symbol, date=date)\n",
    "    print(date,HistVol,iv_data,'Volat_hist',HistVol, first_option_symbol)\n",
    "    print('\\n')\n",
    "    \n",
    "    incremental_pause()\n",
    "    #time.sleep(15)\n",
    "\n",
    "    if not iv_data.empty:\n",
    "        results.append(iv_data)\n",
    "    else:\n",
    "        print(f\"No market data for {date.strftime('%Y-%m-%d')}\")\n",
    "\n",
    "# Concatenar todos los DataFrames en uno solo si hay resultados\n",
    "if results:\n",
    "    df = pd.concat(results, ignore_index=True)\n",
    "    df['Opt_ticker'] = first_option_symbol\n",
    "    df['Opt_HV'] = HistVol  \n",
    "    df['Opt_HV'] = round(df['Opt_HV'], 3)\n",
    "    df['IV_HV_Ratio'] = (df['optionIv'] / df['Opt_HV']) * 100\n",
    "    df = df.round(2)\n",
    "        \n",
    "else:\n",
    "    df = pd.DataFrame()  # Crea un DataFrame vacío si no hay datos de mercado\n",
    "df"
   ]
  },
  {
   "cell_type": "code",
   "execution_count": null,
   "id": "cb5ce1d4",
   "metadata": {},
   "outputs": [],
   "source": [
    "df.to_csv(f'output/iteracion_{symbol}.csv', index=False)"
   ]
  },
  {
   "cell_type": "code",
   "execution_count": null,
   "id": "3e6edaf6",
   "metadata": {
    "scrolled": true
   },
   "outputs": [],
   "source": [
    "df.tail()"
   ]
  },
  {
   "cell_type": "markdown",
   "id": "ef2d81bc",
   "metadata": {},
   "source": [
    "Graficación de Resultados"
   ]
  },
  {
   "cell_type": "code",
   "execution_count": null,
   "id": "85c17e68",
   "metadata": {},
   "outputs": [],
   "source": [
    "# Assuming df is already defined with correct data and a datetime index.\n",
    "symbol = df.iloc[0]['stockSymbol']\n",
    "\n",
    "fig, (ax1, ax2, ax3) = plt.subplots(3, 1, sharex=True, figsize=(10, 12), gridspec_kw={'height_ratios': [2, 2, 1]})\n",
    "\n",
    "# Plotting IV/HV Ratio\n",
    "ax1.plot(df.index, df['IV_HV_Ratio'], color='blue', label='IV/HV Ratio')\n",
    "ax1.set_ylabel('IV/HV Ratio')\n",
    "ax1.legend(loc='upper left')\n",
    "ax1.set_title(f'IV/HV Ratio and Underlying Price Analysis for {symbol}')  # Title for ax1\n",
    "\n",
    "# Adding the twin axis for the underlying price\n",
    "ax1_right = ax1.twinx()\n",
    "ax1_right.plot(df.index, df['underlyingPrice'], color='green', label=f'{symbol} Underlying Price', alpha=0.4)\n",
    "ax1_right.set_ylabel(f'Price of {symbol}')\n",
    "ax1_right.legend(loc='upper right')\n",
    "\n",
    "# Calculate and Highlight the 90th percentile of IV/HV Ratio\n",
    "percentile_90_ivhv = df['IV_HV_Ratio'].quantile(0.9)\n",
    "ax1.axhline(y=percentile_90_ivhv, color='blue', linestyle='--')\n",
    "ax1.fill_between(df.index, df['IV_HV_Ratio'], percentile_90_ivhv, where=(df['IV_HV_Ratio'] >= percentile_90_ivhv), color='blue', alpha=0.3)\n",
    "ax1.legend(loc='upper left', bbox_to_anchor=(0, 1.2))  # Adjust legend to fit\n",
    "\n",
    "# Plotting Option IV on the third axis\n",
    "ax3.plot(df.index, df['optionIv'], color='violet', alpha=0.5, label='Option IV')\n",
    "ax3.set_ylabel('Option IV')\n",
    "ax3.legend(loc='upper left')\n",
    "\n",
    "# Plotting Option Ask Price on the second axis, highlight 90th percentile and add fill\n",
    "percentile_90_ask = df['optionAskPrice'].quantile(0.9)\n",
    "ax2.plot(df.index, df['optionAskPrice'], color='red', label='Option Ask Price', alpha=0.7)\n",
    "ax2.axhline(y=percentile_90_ask, color='red', linestyle='--', label=f'90th Percentile Ask Price = {percentile_90_ask:.2f}')\n",
    "ax2.fill_between(df.index, df['optionAskPrice'], percentile_90_ask, where=(df['optionAskPrice'] >= percentile_90_ask), color='red', alpha=0.5)\n",
    "ax2.set_ylabel('Option Ask Price')\n",
    "ax2.set_xlabel('Date')  # Ensure xlabel reflects the content of the index\n",
    "ax2.legend(loc='upper left')\n",
    "\n",
    "# Adjust layout to fit the subplots neatly within the figure window\n",
    "plt.tight_layout(rect=[0, 0.03, 1, 0.95])  # Adjust the layout to provide space for the title\n",
    "\n",
    "plt.show()"
   ]
  },
  {
   "cell_type": "code",
   "execution_count": null,
   "id": "a7789ede",
   "metadata": {},
   "outputs": [],
   "source": [
    "# Assuming df is already loaded with a datetime index set\n",
    "fig, (ax1, ax2, ax3) = plt.subplots(3, 1, sharex=True, figsize=(10, 12), gridspec_kw={'height_ratios': [3, 1, 1]})\n",
    "\n",
    "# Plotting IV_HV_Ratio\n",
    "ax1.plot(df.index, df['IV_HV_Ratio'], color='blue', label='IV/HV Ratio')\n",
    "ax1.set_ylabel('IV/HV Ratio')\n",
    "ax1.legend(loc='upper left')\n",
    "ax1.set_title(f'IV/HV Ratio and Underlying Price Analysis for {symbol}')  # Title for ax1\n",
    "ax1_right = ax1.twinx()\n",
    "ax1_right.plot(df.index, df['underlyingPrice'], color='green', label=f'subyaciente {symbol}', alpha = 0.3)\n",
    "ax1_right.set_ylabel(f'valor {symbol}')\n",
    "ax1_right.legend(loc='upper right')\n",
    "ax1.axhline(y=120, color='blue', linestyle='--', label='Mean IV/HV Ratio') \n",
    "\n",
    "\n",
    "# Plotting optionIv\n",
    "ax2.plot(df.index, df['optionIv'], color='violet', alpha=0.5, label='Option IV')\n",
    "ax2.set_ylabel('Option IV')\n",
    "ax2.legend(loc='upper left')\n",
    "\n",
    "# Plotting optionAskPrice\n",
    "ax3.plot(df.index, df['optionAskPrice'], label='Option Ask Price')\n",
    "ax3.set_ylabel('Option Ask Price')\n",
    "ax3.set_xlabel('Date')  # Ensure xlabel reflects the content of the index\n",
    "ax3.legend(loc='upper left')\n",
    "\n",
    "# Adjust layout to fit the subplots neatly within the figure window\n",
    "plt.tight_layout(rect=[0, 0.03, 1, 0.95])  # Adjust the layout to provide space for the title\n",
    "\n",
    "plt.show()"
   ]
  },
  {
   "cell_type": "code",
   "execution_count": null,
   "id": "44dcf07f",
   "metadata": {},
   "outputs": [],
   "source": []
  }
 ],
 "metadata": {
  "kernelspec": {
   "display_name": "Python 3 (ipykernel)",
   "language": "python",
   "name": "python3"
  },
  "language_info": {
   "codemirror_mode": {
    "name": "ipython",
    "version": 3
   },
   "file_extension": ".py",
   "mimetype": "text/x-python",
   "name": "python",
   "nbconvert_exporter": "python",
   "pygments_lexer": "ipython3",
   "version": "3.11.5"
  }
 },
 "nbformat": 4,
 "nbformat_minor": 5
}
