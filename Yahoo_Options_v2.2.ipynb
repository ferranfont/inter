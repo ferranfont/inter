{
 "cells": [
  {
   "cell_type": "code",
   "execution_count": 1,
   "id": "e9969ef8",
   "metadata": {},
   "outputs": [],
   "source": [
    "#pip install finvizfinance\n",
    "\n",
    "import pandas as pd\n",
    "from finvizfinance.quote import finvizfinance\n",
    "from datetime import datetime\n",
    "import pathlib\n",
    "\n",
    "import pandas_datareader.data as web\n",
    "import numpy as np\n",
    "from sklearn.linear_model import LinearRegression\n",
    "\n",
    "from dateutil.relativedelta import relativedelta\n",
    "\n",
    "import matplotlib.pyplot as plt\n",
    "\n",
    "from IPython.display import clear_output\n",
    "\n"
   ]
  },
  {
   "cell_type": "code",
   "execution_count": 2,
   "id": "bfa76b29",
   "metadata": {},
   "outputs": [],
   "source": [
    "#!pip install dateutil.relativedelta"
   ]
  },
  {
   "cell_type": "code",
   "execution_count": 3,
   "id": "9fccc335",
   "metadata": {},
   "outputs": [
    {
     "name": "stdout",
     "output_type": "stream",
     "text": [
      "[Info] loading page [##############################] 104/104 \r"
     ]
    }
   ],
   "source": [
    "# NO EXECUTAR\n",
    "# -----------\n",
    "\n",
    "from finvizfinance.screener.overview import Overview\n",
    "foverview = Overview()\n",
    "#filters_dict = {'Exchange':'NYSE','Market Cap.':'+Mid (over $2bln)'}\n",
    "filters_dict = {'Exchange':'NYSE','Price':'Over $10','Average Volume':'Over 100K'}\n",
    "foverview.set_filter(filters_dict=filters_dict)\n",
    "df = foverview.screener_view()\n",
    "\n"
   ]
  },
  {
   "cell_type": "code",
   "execution_count": 7,
   "id": "39d615f9",
   "metadata": {},
   "outputs": [],
   "source": [
    "now = datetime.now()\n",
    "#print(now.strftime(\"%Y-%m-%d\"))\n",
    "\n",
    "future_date_2months = now + relativedelta(months=2)\n",
    "future_date_4months = now + relativedelta(months=4)\n",
    "future_date_2months = future_date_2months.replace(day=1)\n",
    "future_date_4months = future_date_4months.replace(day=1)\n",
    "\n",
    "#print(future_date_2months)\n",
    "#print(future_date_4months)\n"
   ]
  },
  {
   "cell_type": "code",
   "execution_count": 8,
   "id": "096cd75f",
   "metadata": {},
   "outputs": [],
   "source": [
    "\n",
    "def plot_options_IV(param_ticker, param_expiry_date_month, param_expiry_date_year):\n",
    "    #str_ticker='AAPL'\n",
    "\n",
    "    ticker = web.YahooOptions(param_ticker)\n",
    "    ticker.headers = {'User-Agent': 'Firefox'}\n",
    "    #print(ticker.expiry_dates)\n",
    "\n",
    "    # get call data\n",
    "    df_calls = ticker.get_call_data(month = param_expiry_date_month , year = param_expiry_date_year)\n",
    "\n",
    "    df_calls.to_csv('dataframe_opcions.csv')\n",
    "    df_calls1 = pd.read_csv ('dataframe_opcions.csv')\n",
    "\n",
    "    str_vto = df_calls1[\"Expiry\"].values[0]\n",
    "\n",
    "    # Plotting\n",
    "    plt.figure(figsize=(12, 6))\n",
    "    plt.plot(df_calls1['Strike'], df_calls1['IV'], label='IV')\n",
    "\n",
    "    # Adding labels and title\n",
    "    #plt.xlabel('Timestamp')\n",
    "    #plt.ylabel('Close Price')\n",
    "    plt.title('IV (Implied Volatility) - ' + param_ticker)\n",
    "\n",
    "    # Ajustar una regressió lineal\n",
    "    X = df_calls1[['Strike']]\n",
    "    y = df_calls1['IV']\n",
    "\n",
    "    regression_model = LinearRegression()\n",
    "    regression_model.fit(X, y)\n",
    "\n",
    "    # Preveure els valors de IV amb la regressió lineal\n",
    "    y_pred = regression_model.predict(X)\n",
    "\n",
    "    # Afegir la línia de regressió lineal\n",
    "    plt.plot(df_calls1['Strike'], y_pred, label='Linear Regression', linestyle='--', color='red')\n",
    "\n",
    "    # Seleccionar 20 valors de 'last' de manera equidistant\n",
    "    selected_points = df_calls1.iloc[::len(df_calls1) // 10]\n",
    "\n",
    "    # Afegir etiquetes 'last' per a cada punt seleccionat\n",
    "    for index, row in selected_points.iterrows():\n",
    "        last_value = row['Last']\n",
    "        strike_value = row['Strike']\n",
    "        plt.annotate(f'Last: {last_value:.2f}', xy=(strike_value, row['IV']), xytext=(5, 5),\n",
    "                     textcoords='offset points', fontsize=8, color='blue')\n",
    "\n",
    "    # Etiquetes i títol\n",
    "    plt.xlabel('Strike')\n",
    "    plt.ylabel('IV')\n",
    "    plt.title('Gràfic de Strike vs. IV - ' + param_ticker + '(' + str_vto + ')')\n",
    "\n",
    "    # Afegir llegenda\n",
    "    plt.legend()\n",
    "\n",
    "    # Mostrar la gràfica\n",
    "    plt.show()\n",
    "    "
   ]
  },
  {
   "cell_type": "code",
   "execution_count": 9,
   "id": "65cce9c4",
   "metadata": {},
   "outputs": [
    {
     "ename": "SyntaxError",
     "evalue": "unmatched ')' (3600325514.py, line 18)",
     "output_type": "error",
     "traceback": [
      "\u001b[1;36m  Cell \u001b[1;32mIn[9], line 18\u001b[1;36m\u001b[0m\n\u001b[1;33m    + ' year:' + str(exp_year))\u001b[0m\n\u001b[1;37m                              ^\u001b[0m\n\u001b[1;31mSyntaxError\u001b[0m\u001b[1;31m:\u001b[0m unmatched ')'\n"
     ]
    }
   ],
   "source": [
    "#URL = 'https://en.wikipedia.org/wiki/List_of_S%26P_500_companies'\n",
    "#ticker_list = pd.read_html(URL)[0]['Symbol'].tolist()\n",
    "\n",
    "ticker_list = ['AAPL','MSFT','AMZN','META']\n",
    "\n",
    "for str_ticker in ticker_list:\n",
    "    #print(str_ticker)\n",
    "    ticker = web.YahooOptions(str_ticker)\n",
    "    ticker.headers = {'User-Agent': 'Firefox'}\n",
    "    #print(exp.isoformat())\n",
    "\n",
    "    for exp in ticker.expiry_dates:\n",
    "        #print(exp.strftime(\"%Y-%m-%d\"))\n",
    "        if exp >= future_date_2months.date() and exp <= future_date_4months.date():\n",
    "            exp_month = int(exp.strftime(\"%m\"))\n",
    "            exp_year = int(exp.strftime(\"%Y\"))\n",
    "            #print('Aquesta SIII: ' + exp.strftime(\"%Y-%m-%d\") + ' month:' + \n",
    "            + ' year:' + str(exp_year))\n",
    "\n",
    "            try:\n",
    "                plot_options_IV(str_ticker, exp_month, exp_year)\n",
    "            except ValueError:\n",
    "                print(\"Error: \" + str_ticker)      \n",
    "\n",
    "            wait = input(\"Press Enter to continue.\")\n",
    "            clear_output(wait=False)\n",
    "                \n",
    "            \n",
    "print('End')\n",
    "    \n"
   ]
  },
  {
   "cell_type": "code",
   "execution_count": null,
   "id": "52c17dd8",
   "metadata": {},
   "outputs": [],
   "source": []
  },
  {
   "cell_type": "code",
   "execution_count": null,
   "id": "a8ac066b",
   "metadata": {},
   "outputs": [],
   "source": []
  },
  {
   "cell_type": "code",
   "execution_count": null,
   "id": "4dffd660",
   "metadata": {},
   "outputs": [],
   "source": []
  },
  {
   "cell_type": "code",
   "execution_count": null,
   "id": "f9bbdb4b",
   "metadata": {},
   "outputs": [],
   "source": []
  },
  {
   "cell_type": "code",
   "execution_count": null,
   "id": "a10955db",
   "metadata": {},
   "outputs": [],
   "source": []
  },
  {
   "cell_type": "code",
   "execution_count": null,
   "id": "46cd02ce",
   "metadata": {},
   "outputs": [],
   "source": []
  }
 ],
 "metadata": {
  "kernelspec": {
   "display_name": "Python 3 (ipykernel)",
   "language": "python",
   "name": "python3"
  },
  "language_info": {
   "codemirror_mode": {
    "name": "ipython",
    "version": 3
   },
   "file_extension": ".py",
   "mimetype": "text/x-python",
   "name": "python",
   "nbconvert_exporter": "python",
   "pygments_lexer": "ipython3",
   "version": "3.11.5"
  }
 },
 "nbformat": 4,
 "nbformat_minor": 5
}
