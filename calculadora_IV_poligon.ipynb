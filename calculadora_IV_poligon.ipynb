{
 "cells": [
  {
   "cell_type": "code",
   "execution_count": 1,
   "id": "03d8ebf7",
   "metadata": {},
   "outputs": [],
   "source": [
    "from scipy.optimize import newton\n",
    "from math import log, sqrt, exp\n",
    "from scipy.stats import norm"
   ]
  },
  {
   "cell_type": "code",
   "execution_count": 2,
   "id": "3ec95fca",
   "metadata": {},
   "outputs": [],
   "source": [
    "def black_scholes_call(S, X, T, r, sigma):\n",
    "    d1 = (log(S / X) + (r + 0.5 * sigma**2) * T) / (sigma * sqrt(T))\n",
    "    return S * norm.cdf(d1) - X * exp(-r * T) * norm.cdf(d1 - sigma * sqrt(T))\n",
    "\n",
    "def implied_volatility(option_price, S, X, T, r, initial_guess=0.2):\n",
    "    # Define a function that represents the difference between market price and Black-Scholes price\n",
    "    option_price_difference = lambda sigma: black_scholes_call(S, X, T, r, sigma) - option_price\n",
    "    # Use numerical optimization to find the implied volatility\n",
    "    implied_volatility = newton(option_price_difference, initial_guess)\n",
    "    return implied_volatility"
   ]
  },
  {
   "cell_type": "code",
   "execution_count": 3,
   "id": "3280116e",
   "metadata": {},
   "outputs": [
    {
     "name": "stdout",
     "output_type": "stream",
     "text": [
      "Implied Volatility: 0.21029156231241855\n"
     ]
    }
   ],
   "source": [
    "# Example usage AAPL a fecha 9 enero 2024\n",
    "\n",
    "market_price = 6.10  # Replace with the actual market price of the option\n",
    "spot_price = 185.56  # Replace with the current spot price of the underlying asset\n",
    "strike_price = 200.0  # Replace with the strike price of the option\n",
    "time_to_expiry = 0.4493  # Replace with the time to expiration in years\n",
    "risk_free_rate = 0.038 # Replace with the risk-free interest rate\n",
    "\n",
    "iv = implied_volatility(market_price, spot_price, strike_price, time_to_expiry, risk_free_rate)\n",
    "print(f\"Implied Volatility: {iv}\")"
   ]
  },
  {
   "cell_type": "code",
   "execution_count": null,
   "id": "2651c4b1",
   "metadata": {},
   "outputs": [],
   "source": []
  }
 ],
 "metadata": {
  "kernelspec": {
   "display_name": "Python 3 (ipykernel)",
   "language": "python",
   "name": "python3"
  },
  "language_info": {
   "codemirror_mode": {
    "name": "ipython",
    "version": 3
   },
   "file_extension": ".py",
   "mimetype": "text/x-python",
   "name": "python",
   "nbconvert_exporter": "python",
   "pygments_lexer": "ipython3",
   "version": "3.11.5"
  }
 },
 "nbformat": 4,
 "nbformat_minor": 5
}
