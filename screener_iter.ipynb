{
 "cells": [
  {
   "cell_type": "code",
   "execution_count": 13,
   "id": "3e31962a",
   "metadata": {},
   "outputs": [],
   "source": [
    "import requests\n",
    "import pandas as pd\n",
    "import ivolatility as ivol\n",
    "import matplotlib.pyplot as plt\n",
    "import numpy as np\n",
    "import holidays\n",
    "# ivolatility connection\n",
    "apiKey = 'fFF8EEL54op7k0DN'\n",
    "ivol.setLoginParams(apiKey=apiKey)"
   ]
  },
  {
   "cell_type": "code",
   "execution_count": 14,
   "id": "8e82d3d9",
   "metadata": {},
   "outputs": [],
   "source": [
    "# Variables\n",
    "symbol = 'AAPL'\n",
    "date = '2024-04-30'"
   ]
  },
  {
   "cell_type": "code",
   "execution_count": 15,
   "id": "63fc8cf9",
   "metadata": {},
   "outputs": [
    {
     "data": {
      "text/html": [
       "<div>\n",
       "<style scoped>\n",
       "    .dataframe tbody tr th:only-of-type {\n",
       "        vertical-align: middle;\n",
       "    }\n",
       "\n",
       "    .dataframe tbody tr th {\n",
       "        vertical-align: top;\n",
       "    }\n",
       "\n",
       "    .dataframe thead th {\n",
       "        text-align: right;\n",
       "    }\n",
       "</style>\n",
       "<table border=\"1\" class=\"dataframe\">\n",
       "  <thead>\n",
       "    <tr style=\"text-align: right;\">\n",
       "      <th></th>\n",
       "      <th>record_no</th>\n",
       "      <th>date</th>\n",
       "      <th>symbol</th>\n",
       "      <th>exchange</th>\n",
       "      <th>open</th>\n",
       "      <th>high</th>\n",
       "      <th>low</th>\n",
       "      <th>close</th>\n",
       "      <th>volume</th>\n",
       "      <th>unadjusted_close</th>\n",
       "    </tr>\n",
       "  </thead>\n",
       "  <tbody>\n",
       "    <tr>\n",
       "      <th>0</th>\n",
       "      <td>1</td>\n",
       "      <td>2024-04-30</td>\n",
       "      <td>AAPL</td>\n",
       "      <td>NASDAQ</td>\n",
       "      <td>173.33</td>\n",
       "      <td>174.99</td>\n",
       "      <td>170.0</td>\n",
       "      <td>170.33</td>\n",
       "      <td>65321081</td>\n",
       "      <td>170.33</td>\n",
       "    </tr>\n",
       "  </tbody>\n",
       "</table>\n",
       "</div>"
      ],
      "text/plain": [
       "   record_no        date symbol exchange    open    high    low   close  \\\n",
       "0          1  2024-04-30   AAPL   NASDAQ  173.33  174.99  170.0  170.33   \n",
       "\n",
       "     volume  unadjusted_close  \n",
       "0  65321081            170.33  "
      ]
     },
     "execution_count": 15,
     "metadata": {},
     "output_type": "execute_result"
    }
   ],
   "source": [
    "# Get stock EOD Price\n",
    "def fetch_eod_stock_prices(api_key, symbol, date):\n",
    "    url = f\"https://restapi.ivolatility.com/equities/eod/stock-prices?apiKey={api_key}&symbol={symbol}&date={date}\"\n",
    "    response = requests.get(url)\n",
    "    data = response.json()\n",
    "    # Assuming the relevant data is under the 'data' key\n",
    "    df = pd.DataFrame(data['data'])\n",
    "    return df\n",
    "Current = fetch_eod_stock_prices('fFF8EEL54op7k0DN', symbol, date)\n",
    "Current"
   ]
  },
  {
   "cell_type": "code",
   "execution_count": 4,
   "id": "b227316f",
   "metadata": {},
   "outputs": [
    {
     "data": {
      "text/html": [
       "<div>\n",
       "<style scoped>\n",
       "    .dataframe tbody tr th:only-of-type {\n",
       "        vertical-align: middle;\n",
       "    }\n",
       "\n",
       "    .dataframe tbody tr th {\n",
       "        vertical-align: top;\n",
       "    }\n",
       "\n",
       "    .dataframe thead th {\n",
       "        text-align: right;\n",
       "    }\n",
       "</style>\n",
       "<table border=\"1\" class=\"dataframe\">\n",
       "  <thead>\n",
       "    <tr style=\"text-align: right;\">\n",
       "      <th></th>\n",
       "      <th>record_no</th>\n",
       "      <th>symbol</th>\n",
       "      <th>exchange</th>\n",
       "      <th>date</th>\n",
       "      <th>price</th>\n",
       "      <th>10d HV</th>\n",
       "      <th>20d HV</th>\n",
       "      <th>30d HV</th>\n",
       "      <th>60d HV</th>\n",
       "      <th>90d HV</th>\n",
       "      <th>120d HV</th>\n",
       "      <th>150d HV</th>\n",
       "      <th>180d HV</th>\n",
       "    </tr>\n",
       "  </thead>\n",
       "  <tbody>\n",
       "    <tr>\n",
       "      <th>0</th>\n",
       "      <td>1</td>\n",
       "      <td>AAPL</td>\n",
       "      <td>NASDAQ</td>\n",
       "      <td>2024-04-30</td>\n",
       "      <td>170.33</td>\n",
       "      <td>0.201656</td>\n",
       "      <td>0.243554</td>\n",
       "      <td>0.253854</td>\n",
       "      <td>0.210647</td>\n",
       "      <td>0.208596</td>\n",
       "      <td>0.196592</td>\n",
       "      <td>0.193689</td>\n",
       "      <td>0.201202</td>\n",
       "    </tr>\n",
       "  </tbody>\n",
       "</table>\n",
       "</div>"
      ],
      "text/plain": [
       "   record_no symbol exchange        date   price    10d HV    20d HV  \\\n",
       "0          1   AAPL   NASDAQ  2024-04-30  170.33  0.201656  0.243554   \n",
       "\n",
       "     30d HV    60d HV    90d HV   120d HV   150d HV   180d HV  \n",
       "0  0.253854  0.210647  0.208596  0.196592  0.193689  0.201202  "
      ]
     },
     "execution_count": 4,
     "metadata": {},
     "output_type": "execute_result"
    }
   ],
   "source": [
    "getMarketData = ivol.setMethod('/equities/eod/hv')\n",
    "marketData = getMarketData(symbol=symbol, date=date)\n",
    "df_H = pd.DataFrame(marketData)\n",
    "df_H"
   ]
  },
  {
   "cell_type": "code",
   "execution_count": 5,
   "id": "761b7208",
   "metadata": {},
   "outputs": [
    {
     "data": {
      "text/html": [
       "<div>\n",
       "<style scoped>\n",
       "    .dataframe tbody tr th:only-of-type {\n",
       "        vertical-align: middle;\n",
       "    }\n",
       "\n",
       "    .dataframe tbody tr th {\n",
       "        vertical-align: top;\n",
       "    }\n",
       "\n",
       "    .dataframe thead th {\n",
       "        text-align: right;\n",
       "    }\n",
       "</style>\n",
       "<table border=\"1\" class=\"dataframe\">\n",
       "  <thead>\n",
       "    <tr style=\"text-align: right;\">\n",
       "      <th></th>\n",
       "      <th>option_id</th>\n",
       "      <th>option_symbol</th>\n",
       "      <th>comment</th>\n",
       "    </tr>\n",
       "  </thead>\n",
       "  <tbody>\n",
       "    <tr>\n",
       "      <th>0</th>\n",
       "      <td>119715046</td>\n",
       "      <td>AAPL  240621P00170000</td>\n",
       "      <td>NaN</td>\n",
       "    </tr>\n",
       "    <tr>\n",
       "      <th>1</th>\n",
       "      <td>119715048</td>\n",
       "      <td>AAPL  240621P00175000</td>\n",
       "      <td>NaN</td>\n",
       "    </tr>\n",
       "  </tbody>\n",
       "</table>\n",
       "</div>"
      ],
      "text/plain": [
       "   option_id          option_symbol  comment\n",
       "0  119715046  AAPL  240621P00170000      NaN\n",
       "1  119715048  AAPL  240621P00175000      NaN"
      ]
     },
     "execution_count": 5,
     "metadata": {},
     "output_type": "execute_result"
    }
   ],
   "source": [
    "# Get Nearest Option Price\n",
    "getMarketData = ivol.setMethod('/equities/eod/nearest-option-tickers')\n",
    "marketData = getMarketData(symbol=symbol, startingDate=date, dte=60, moneyness=0, callPut='P')\n",
    "df_near = pd.DataFrame(marketData)\n",
    "df_near"
   ]
  },
  {
   "cell_type": "code",
   "execution_count": 6,
   "id": "2b7f0c8e",
   "metadata": {},
   "outputs": [
    {
     "name": "stdout",
     "output_type": "stream",
     "text": [
      "AAPL  240621P00170000\n"
     ]
    }
   ],
   "source": [
    "first_option_id = df_near.iloc[0][\"option_id\"]\n",
    "first_option_symbol= df_near.iloc[0][\"option_symbol\"]\n",
    "print(first_option_symbol)"
   ]
  },
  {
   "cell_type": "code",
   "execution_count": 29,
   "id": "3bdd1448",
   "metadata": {},
   "outputs": [
    {
     "name": "stdout",
     "output_type": "stream",
     "text": [
      "['2024-04-04', '2024-04-05']\n"
     ]
    }
   ],
   "source": [
    "def create_working_days(start_date, end_date, country='US'):\n",
    "    # Generate a date range for all days between start and end\n",
    "    all_days = pd.date_range(start=start_date, end=end_date, freq='D')\n",
    "    \n",
    "    # Fetch holidays for the given country in the range of years\n",
    "    us_holidays = holidays.CountryHoliday(country, years=[start_date.year, end_date.year])\n",
    "    \n",
    "    # Filter out weekends and holidays, and format dates as strings\n",
    "    working_days = [day.strftime('%Y-%m-%d') for day in all_days if day.weekday() < 5 and day not in us_holidays]\n",
    "    \n",
    "    return working_days\n",
    "\n",
    "# Example usage: create a list of working days from January 1, 2024, to January 31, 2024\n",
    "date_range = create_working_days(pd.Timestamp('2024-04-04'), pd.Timestamp('2024-04-05'))\n",
    "print(date_range)\n"
   ]
  },
  {
   "cell_type": "code",
   "execution_count": 30,
   "id": "f0b988b1",
   "metadata": {},
   "outputs": [
    {
     "name": "stdout",
     "output_type": "stream",
     "text": [
      "400 Limit is exceeded\n"
     ]
    },
    {
     "ename": "IndexError",
     "evalue": "index -1 is out of bounds for axis 0 with size 0",
     "output_type": "error",
     "traceback": [
      "\u001b[1;31m---------------------------------------------------------------------------\u001b[0m",
      "\u001b[1;31mIndexError\u001b[0m                                Traceback (most recent call last)",
      "File \u001b[1;32m~\\anaconda3\\Lib\\site-packages\\pandas\\core\\indexes\\range.py:912\u001b[0m, in \u001b[0;36mRangeIndex.__getitem__\u001b[1;34m(self, key)\u001b[0m\n\u001b[0;32m    911\u001b[0m \u001b[38;5;28;01mtry\u001b[39;00m:\n\u001b[1;32m--> 912\u001b[0m     \u001b[38;5;28;01mreturn\u001b[39;00m \u001b[38;5;28mself\u001b[39m\u001b[38;5;241m.\u001b[39m_range[new_key]\n\u001b[0;32m    913\u001b[0m \u001b[38;5;28;01mexcept\u001b[39;00m \u001b[38;5;167;01mIndexError\u001b[39;00m \u001b[38;5;28;01mas\u001b[39;00m err:\n",
      "\u001b[1;31mIndexError\u001b[0m: range object index out of range",
      "\nThe above exception was the direct cause of the following exception:\n",
      "\u001b[1;31mIndexError\u001b[0m                                Traceback (most recent call last)",
      "Cell \u001b[1;32mIn[30], line 6\u001b[0m\n\u001b[0;32m      3\u001b[0m marketData \u001b[38;5;241m=\u001b[39m getMarketData(optionSymbol\u001b[38;5;241m=\u001b[39mfirst_option_symbol, date\u001b[38;5;241m=\u001b[39mdate, minuteType\u001b[38;5;241m=\u001b[39m\u001b[38;5;124m'\u001b[39m\u001b[38;5;124mHOUR\u001b[39m\u001b[38;5;124m'\u001b[39m)\n\u001b[0;32m      5\u001b[0m df_IV \u001b[38;5;241m=\u001b[39m pd\u001b[38;5;241m.\u001b[39mDataFrame(marketData)\n\u001b[1;32m----> 6\u001b[0m last_index_value \u001b[38;5;241m=\u001b[39m df_IV\u001b[38;5;241m.\u001b[39mindex[\u001b[38;5;241m-\u001b[39m\u001b[38;5;241m1\u001b[39m]\n\u001b[0;32m      7\u001b[0m ImpVol \u001b[38;5;241m=\u001b[39m df_IV\u001b[38;5;241m.\u001b[39miloc[last_index_value][\u001b[38;5;124m\"\u001b[39m\u001b[38;5;124moptionIv\u001b[39m\u001b[38;5;124m\"\u001b[39m]\n\u001b[0;32m      9\u001b[0m df_IV\u001b[38;5;241m.\u001b[39mtail(\u001b[38;5;241m1\u001b[39m)\n",
      "File \u001b[1;32m~\\anaconda3\\Lib\\site-packages\\pandas\\core\\indexes\\range.py:914\u001b[0m, in \u001b[0;36mRangeIndex.__getitem__\u001b[1;34m(self, key)\u001b[0m\n\u001b[0;32m    912\u001b[0m         \u001b[38;5;28;01mreturn\u001b[39;00m \u001b[38;5;28mself\u001b[39m\u001b[38;5;241m.\u001b[39m_range[new_key]\n\u001b[0;32m    913\u001b[0m     \u001b[38;5;28;01mexcept\u001b[39;00m \u001b[38;5;167;01mIndexError\u001b[39;00m \u001b[38;5;28;01mas\u001b[39;00m err:\n\u001b[1;32m--> 914\u001b[0m         \u001b[38;5;28;01mraise\u001b[39;00m \u001b[38;5;167;01mIndexError\u001b[39;00m(\n\u001b[0;32m    915\u001b[0m             \u001b[38;5;124mf\u001b[39m\u001b[38;5;124m\"\u001b[39m\u001b[38;5;124mindex \u001b[39m\u001b[38;5;132;01m{\u001b[39;00mkey\u001b[38;5;132;01m}\u001b[39;00m\u001b[38;5;124m is out of bounds for axis 0 with size \u001b[39m\u001b[38;5;132;01m{\u001b[39;00m\u001b[38;5;28mlen\u001b[39m(\u001b[38;5;28mself\u001b[39m)\u001b[38;5;132;01m}\u001b[39;00m\u001b[38;5;124m\"\u001b[39m\n\u001b[0;32m    916\u001b[0m         ) \u001b[38;5;28;01mfrom\u001b[39;00m \u001b[38;5;21;01merr\u001b[39;00m\n\u001b[0;32m    917\u001b[0m \u001b[38;5;28;01melif\u001b[39;00m is_scalar(key):\n\u001b[0;32m    918\u001b[0m     \u001b[38;5;28;01mraise\u001b[39;00m \u001b[38;5;167;01mIndexError\u001b[39;00m(\n\u001b[0;32m    919\u001b[0m         \u001b[38;5;124m\"\u001b[39m\u001b[38;5;124monly integers, slices (`:`), \u001b[39m\u001b[38;5;124m\"\u001b[39m\n\u001b[0;32m    920\u001b[0m         \u001b[38;5;124m\"\u001b[39m\u001b[38;5;124mellipsis (`...`), numpy.newaxis (`None`) \u001b[39m\u001b[38;5;124m\"\u001b[39m\n\u001b[0;32m    921\u001b[0m         \u001b[38;5;124m\"\u001b[39m\u001b[38;5;124mand integer or boolean \u001b[39m\u001b[38;5;124m\"\u001b[39m\n\u001b[0;32m    922\u001b[0m         \u001b[38;5;124m\"\u001b[39m\u001b[38;5;124marrays are valid indices\u001b[39m\u001b[38;5;124m\"\u001b[39m\n\u001b[0;32m    923\u001b[0m     )\n",
      "\u001b[1;31mIndexError\u001b[0m: index -1 is out of bounds for axis 0 with size 0"
     ]
    }
   ],
   "source": [
    "getMarketData = ivol.setMethod('/equities/intraday/single-equity-optionsymbol-rawiv')\n",
    "#marketData = getMarketData(optionSymbol=first_option_symbol, date=date, minuteType='HOUR')\n",
    "marketData = getMarketData(optionSymbol=first_option_symbol, date=date, minuteType='HOUR')\n",
    "\n",
    "df_IV = pd.DataFrame(marketData)\n",
    "last_index_value = df_IV.index[-1]\n",
    "ImpVol = df_IV.iloc[last_index_value][\"optionIv\"]\n",
    "\n",
    "df_IV.tail(1)"
   ]
  },
  {
   "cell_type": "code",
   "execution_count": 31,
   "id": "6eb8994a",
   "metadata": {},
   "outputs": [
    {
     "ename": "NameError",
     "evalue": "name 'ImpVol' is not defined",
     "output_type": "error",
     "traceback": [
      "\u001b[1;31m---------------------------------------------------------------------------\u001b[0m",
      "\u001b[1;31mNameError\u001b[0m                                 Traceback (most recent call last)",
      "Cell \u001b[1;32mIn[31], line 1\u001b[0m\n\u001b[1;32m----> 1\u001b[0m \u001b[38;5;28mprint\u001b[39m(\u001b[38;5;124m'\u001b[39m\u001b[38;5;124mLa Volatilidad Implícita es:\u001b[39m\u001b[38;5;124m'\u001b[39m, \u001b[38;5;28mround\u001b[39m(ImpVol,\u001b[38;5;241m3\u001b[39m)\u001b[38;5;241m*\u001b[39m\u001b[38;5;241m100\u001b[39m)\n\u001b[0;32m      2\u001b[0m HistVol \u001b[38;5;241m=\u001b[39m df_H\u001b[38;5;241m.\u001b[39miloc[\u001b[38;5;241m0\u001b[39m][\u001b[38;5;124m\"\u001b[39m\u001b[38;5;124m180d HV\u001b[39m\u001b[38;5;124m\"\u001b[39m]\n\u001b[0;32m      3\u001b[0m \u001b[38;5;28mprint\u001b[39m(\u001b[38;5;124m'\u001b[39m\u001b[38;5;124mLa Volatilidad Histórica es:\u001b[39m\u001b[38;5;124m'\u001b[39m, \u001b[38;5;28mround\u001b[39m(HistVol,\u001b[38;5;241m3\u001b[39m)\u001b[38;5;241m*\u001b[39m\u001b[38;5;241m100\u001b[39m)\n",
      "\u001b[1;31mNameError\u001b[0m: name 'ImpVol' is not defined"
     ]
    }
   ],
   "source": [
    "print('La Volatilidad Implícita es:', round(ImpVol,3)*100)\n",
    "HistVol = df_H.iloc[0][\"180d HV\"]\n",
    "print('La Volatilidad Histórica es:', round(HistVol,3)*100)\n",
    "# Normalización IVOL\n",
    "ratio = ImpVol/HistVol *100\n",
    "ratio = round(ratio,1)\n",
    "print('El Ratio es:', ratio,'%')"
   ]
  },
  {
   "cell_type": "code",
   "execution_count": null,
   "id": "927f2a3f",
   "metadata": {},
   "outputs": [],
   "source": []
  },
  {
   "cell_type": "code",
   "execution_count": 32,
   "id": "0a9872d8",
   "metadata": {},
   "outputs": [],
   "source": [
    "def get_IV(first_option_symbol, date):\n",
    "    \"\"\"\n",
    "    Obtiene la volatilidad implícita para una opción específica en una fecha dada, filtrando por columnas específicas.\n",
    "\n",
    "    Parámetros:\n",
    "    first_option_symbol : símbolo de la opción para la cual obtener los datos.\n",
    "    date : fecha para la cual obtener los datos de volatilidad implícita.\n",
    "\n",
    "    Retorna:\n",
    "    Un DataFrame de pandas con la última entrada de la volatilidad implícita, incluyendo solo las columnas especificadas.\n",
    "    \"\"\"\n",
    "    # Suponiendo que 'ivol' es un objeto global o está definido previamente\n",
    "    # Configurar el método de obtención de datos del mercado\n",
    "    getMarketData = ivol.setMethod('/equities/intraday/single-equity-optionsymbol-rawiv')\n",
    "    # Obtener los datos del mercado para el símbolo y fecha especificados\n",
    "    marketData = getMarketData(optionSymbol=first_option_symbol, date=date, minuteType='HOUR')\n",
    "    # Convertir los datos del mercado en un DataFrame\n",
    "    df_IV = pd.DataFrame(marketData)\n",
    "    # Filtrar las columnas deseadas\n",
    "    columns = ['timestamp', 'stockSymbol', 'underlyingPrice', 'optionIv', 'optionDelta', 'optionGamma', 'optionTheta', 'optionVega']\n",
    "    df_IV = df_IV[columns]\n",
    "    # Devolver la última fila del DataFrame\n",
    "    return df_IV.tail(1)"
   ]
  },
  {
   "cell_type": "code",
   "execution_count": 36,
   "id": "48180878",
   "metadata": {},
   "outputs": [
    {
     "name": "stdout",
     "output_type": "stream",
     "text": [
      "400 Limit is exceeded\n"
     ]
    },
    {
     "ename": "KeyError",
     "evalue": "\"None of [Index(['timestamp', 'stockSymbol', 'underlyingPrice', 'optionIv',\\n       'optionDelta', 'optionGamma', 'optionTheta', 'optionVega'],\\n      dtype='object')] are in the [columns]\"",
     "output_type": "error",
     "traceback": [
      "\u001b[1;31m---------------------------------------------------------------------------\u001b[0m",
      "\u001b[1;31mKeyError\u001b[0m                                  Traceback (most recent call last)",
      "Cell \u001b[1;32mIn[36], line 7\u001b[0m\n\u001b[0;32m      5\u001b[0m results \u001b[38;5;241m=\u001b[39m []\n\u001b[0;32m      6\u001b[0m \u001b[38;5;28;01mfor\u001b[39;00m date \u001b[38;5;129;01min\u001b[39;00m date_range:\n\u001b[1;32m----> 7\u001b[0m     iv_data \u001b[38;5;241m=\u001b[39m get_IV(first_option_symbol\u001b[38;5;241m=\u001b[39mfirst_option_symbol, date\u001b[38;5;241m=\u001b[39mdate)\n\u001b[0;32m      8\u001b[0m     \u001b[38;5;28;01mif\u001b[39;00m \u001b[38;5;129;01mnot\u001b[39;00m iv_data\u001b[38;5;241m.\u001b[39mempty:\n\u001b[0;32m      9\u001b[0m         results\u001b[38;5;241m.\u001b[39mappend(iv_data)\n",
      "Cell \u001b[1;32mIn[32], line 21\u001b[0m, in \u001b[0;36mget_IV\u001b[1;34m(first_option_symbol, date)\u001b[0m\n\u001b[0;32m     19\u001b[0m \u001b[38;5;66;03m# Filtrar las columnas deseadas\u001b[39;00m\n\u001b[0;32m     20\u001b[0m columns \u001b[38;5;241m=\u001b[39m [\u001b[38;5;124m'\u001b[39m\u001b[38;5;124mtimestamp\u001b[39m\u001b[38;5;124m'\u001b[39m, \u001b[38;5;124m'\u001b[39m\u001b[38;5;124mstockSymbol\u001b[39m\u001b[38;5;124m'\u001b[39m, \u001b[38;5;124m'\u001b[39m\u001b[38;5;124munderlyingPrice\u001b[39m\u001b[38;5;124m'\u001b[39m, \u001b[38;5;124m'\u001b[39m\u001b[38;5;124moptionIv\u001b[39m\u001b[38;5;124m'\u001b[39m, \u001b[38;5;124m'\u001b[39m\u001b[38;5;124moptionDelta\u001b[39m\u001b[38;5;124m'\u001b[39m, \u001b[38;5;124m'\u001b[39m\u001b[38;5;124moptionGamma\u001b[39m\u001b[38;5;124m'\u001b[39m, \u001b[38;5;124m'\u001b[39m\u001b[38;5;124moptionTheta\u001b[39m\u001b[38;5;124m'\u001b[39m, \u001b[38;5;124m'\u001b[39m\u001b[38;5;124moptionVega\u001b[39m\u001b[38;5;124m'\u001b[39m]\n\u001b[1;32m---> 21\u001b[0m df_IV \u001b[38;5;241m=\u001b[39m df_IV[columns]\n\u001b[0;32m     22\u001b[0m \u001b[38;5;66;03m# Devolver la última fila del DataFrame\u001b[39;00m\n\u001b[0;32m     23\u001b[0m \u001b[38;5;28;01mreturn\u001b[39;00m df_IV\u001b[38;5;241m.\u001b[39mtail(\u001b[38;5;241m1\u001b[39m)\n",
      "File \u001b[1;32m~\\anaconda3\\Lib\\site-packages\\pandas\\core\\frame.py:3767\u001b[0m, in \u001b[0;36mDataFrame.__getitem__\u001b[1;34m(self, key)\u001b[0m\n\u001b[0;32m   3765\u001b[0m     \u001b[38;5;28;01mif\u001b[39;00m is_iterator(key):\n\u001b[0;32m   3766\u001b[0m         key \u001b[38;5;241m=\u001b[39m \u001b[38;5;28mlist\u001b[39m(key)\n\u001b[1;32m-> 3767\u001b[0m     indexer \u001b[38;5;241m=\u001b[39m \u001b[38;5;28mself\u001b[39m\u001b[38;5;241m.\u001b[39mcolumns\u001b[38;5;241m.\u001b[39m_get_indexer_strict(key, \u001b[38;5;124m\"\u001b[39m\u001b[38;5;124mcolumns\u001b[39m\u001b[38;5;124m\"\u001b[39m)[\u001b[38;5;241m1\u001b[39m]\n\u001b[0;32m   3769\u001b[0m \u001b[38;5;66;03m# take() does not accept boolean indexers\u001b[39;00m\n\u001b[0;32m   3770\u001b[0m \u001b[38;5;28;01mif\u001b[39;00m \u001b[38;5;28mgetattr\u001b[39m(indexer, \u001b[38;5;124m\"\u001b[39m\u001b[38;5;124mdtype\u001b[39m\u001b[38;5;124m\"\u001b[39m, \u001b[38;5;28;01mNone\u001b[39;00m) \u001b[38;5;241m==\u001b[39m \u001b[38;5;28mbool\u001b[39m:\n",
      "File \u001b[1;32m~\\anaconda3\\Lib\\site-packages\\pandas\\core\\indexes\\base.py:5877\u001b[0m, in \u001b[0;36mIndex._get_indexer_strict\u001b[1;34m(self, key, axis_name)\u001b[0m\n\u001b[0;32m   5874\u001b[0m \u001b[38;5;28;01melse\u001b[39;00m:\n\u001b[0;32m   5875\u001b[0m     keyarr, indexer, new_indexer \u001b[38;5;241m=\u001b[39m \u001b[38;5;28mself\u001b[39m\u001b[38;5;241m.\u001b[39m_reindex_non_unique(keyarr)\n\u001b[1;32m-> 5877\u001b[0m \u001b[38;5;28mself\u001b[39m\u001b[38;5;241m.\u001b[39m_raise_if_missing(keyarr, indexer, axis_name)\n\u001b[0;32m   5879\u001b[0m keyarr \u001b[38;5;241m=\u001b[39m \u001b[38;5;28mself\u001b[39m\u001b[38;5;241m.\u001b[39mtake(indexer)\n\u001b[0;32m   5880\u001b[0m \u001b[38;5;28;01mif\u001b[39;00m \u001b[38;5;28misinstance\u001b[39m(key, Index):\n\u001b[0;32m   5881\u001b[0m     \u001b[38;5;66;03m# GH 42790 - Preserve name from an Index\u001b[39;00m\n",
      "File \u001b[1;32m~\\anaconda3\\Lib\\site-packages\\pandas\\core\\indexes\\base.py:5938\u001b[0m, in \u001b[0;36mIndex._raise_if_missing\u001b[1;34m(self, key, indexer, axis_name)\u001b[0m\n\u001b[0;32m   5936\u001b[0m     \u001b[38;5;28;01mif\u001b[39;00m use_interval_msg:\n\u001b[0;32m   5937\u001b[0m         key \u001b[38;5;241m=\u001b[39m \u001b[38;5;28mlist\u001b[39m(key)\n\u001b[1;32m-> 5938\u001b[0m     \u001b[38;5;28;01mraise\u001b[39;00m \u001b[38;5;167;01mKeyError\u001b[39;00m(\u001b[38;5;124mf\u001b[39m\u001b[38;5;124m\"\u001b[39m\u001b[38;5;124mNone of [\u001b[39m\u001b[38;5;132;01m{\u001b[39;00mkey\u001b[38;5;132;01m}\u001b[39;00m\u001b[38;5;124m] are in the [\u001b[39m\u001b[38;5;132;01m{\u001b[39;00maxis_name\u001b[38;5;132;01m}\u001b[39;00m\u001b[38;5;124m]\u001b[39m\u001b[38;5;124m\"\u001b[39m)\n\u001b[0;32m   5940\u001b[0m not_found \u001b[38;5;241m=\u001b[39m \u001b[38;5;28mlist\u001b[39m(ensure_index(key)[missing_mask\u001b[38;5;241m.\u001b[39mnonzero()[\u001b[38;5;241m0\u001b[39m]]\u001b[38;5;241m.\u001b[39munique())\n\u001b[0;32m   5941\u001b[0m \u001b[38;5;28;01mraise\u001b[39;00m \u001b[38;5;167;01mKeyError\u001b[39;00m(\u001b[38;5;124mf\u001b[39m\u001b[38;5;124m\"\u001b[39m\u001b[38;5;132;01m{\u001b[39;00mnot_found\u001b[38;5;132;01m}\u001b[39;00m\u001b[38;5;124m not in index\u001b[39m\u001b[38;5;124m\"\u001b[39m)\n",
      "\u001b[1;31mKeyError\u001b[0m: \"None of [Index(['timestamp', 'stockSymbol', 'underlyingPrice', 'optionIv',\\n       'optionDelta', 'optionGamma', 'optionTheta', 'optionVega'],\\n      dtype='object')] are in the [columns]\""
     ]
    }
   ],
   "source": [
    "#date_range = pd.date_range(start='2024-04-23', end='2024-04-24')\n",
    "date_range = ['2024-04-04', '2024-04-05']\n",
    "\n",
    "# Iterar sobre el rango de fechas y obtener la volatilidad implícita para cada fecha\n",
    "results = []\n",
    "for date in date_range:\n",
    "    iv_data = get_IV(first_option_symbol=first_option_symbol, date=date)\n",
    "    if not iv_data.empty:\n",
    "        results.append(iv_data)\n",
    "    else:\n",
    "        print(f\"No market data for {date.strftime('%Y-%m-%d')}\")\n",
    "\n",
    "# Concatenar todos los DataFrames en uno solo si hay resultados\n",
    "if results:\n",
    "    df = pd.concat(results, ignore_index=True)\n",
    "    df['HistVol'] = HistVol  # Asumimos que HistVol es una constante o está calculada en otro lugar\n",
    "    df['OptionHV'] = round(df['HistVol'], 3)\n",
    "    df['IV_HV_Ratio'] = (df['optionIv'] / df['OptionHV']) * 100\n",
    "    df = df.round(2)\n",
    "else:\n",
    "    df = pd.DataFrame()  # Crea un DataFrame vacío si no hay datos de mercado\n",
    "\n",
    "df"
   ]
  },
  {
   "cell_type": "code",
   "execution_count": null,
   "id": "e64e2e49",
   "metadata": {},
   "outputs": [],
   "source": []
  },
  {
   "cell_type": "code",
   "execution_count": null,
   "id": "1c60583f",
   "metadata": {},
   "outputs": [],
   "source": []
  },
  {
   "cell_type": "code",
   "execution_count": null,
   "id": "8addf6a9",
   "metadata": {},
   "outputs": [],
   "source": [
    "date_range = pd.date_range(start='2024-04-24', end='2024-04-27')\n",
    "\n",
    "# Iterate over the date range and get the implied volatility for each date\n",
    "results = []\n",
    "for date in date_range:\n",
    "    iv_data = get_IV(first_option_symbol=first_option_symbol, date=date.strftime('%Y-%m-%d'))\n",
    "    if not iv_data.empty:\n",
    "        results.append(iv_data)\n",
    "    else:\n",
    "        print(f\"No market data for {date.strftime('%Y-%m-%d')} due to a non-trading day or missing data.\")\n",
    "\n",
    "# Concatenate all DataFrames into one if results are available\n",
    "if results:\n",
    "    df = pd.concat(results, ignore_index=True)\n",
    "    # Assuming HistVol needs to be calculated or assigned, here is a placeholder\n",
    "    df['HistVol'] = 0.25  # This is a hypothetical value\n",
    "    df['OptionHV'] = round(df['HistVol'], 3)\n",
    "    df['IV_HV_Ratio'] = (df['optionIv'] / df['OptionHV']) * 100\n",
    "    df = df.round(2)\n",
    "else:\n",
    "    print('Sin datos')\n",
    "\n",
    "df"
   ]
  },
  {
   "cell_type": "code",
   "execution_count": null,
   "id": "4e15b4b3",
   "metadata": {},
   "outputs": [],
   "source": []
  },
  {
   "cell_type": "code",
   "execution_count": null,
   "id": "1b9bf80b",
   "metadata": {},
   "outputs": [],
   "source": []
  },
  {
   "cell_type": "code",
   "execution_count": null,
   "id": "3ec40657",
   "metadata": {},
   "outputs": [],
   "source": [
    "# Rango de fechas desde '2024-04-20' hasta '2024-05-02'\n",
    "date_range = pd.date_range(start='2024-04-22', end='2024-04-24')\n",
    "\n",
    "# Iterar sobre el rango de fechas y obtener la volatilidad implícita para cada fecha\n",
    "results = []\n",
    "for date in date_range:\n",
    "    iv_data = get_IV(first_option_symbol='AAPL', date=date.strftime('%Y-%m-%d'))\n",
    "    if not iv_data.empty:\n",
    "        results.append(iv_data)\n",
    "    else:\n",
    "        print(f\"No market data for {date.strftime('%Y-%m-%d')} due to a non-trading day or missing data.\")\n",
    "\n",
    "# Concatenar todos los DataFrames en uno solo si hay resultados\n",
    "if results:\n",
    "    df = pd.concat(results, ignore_index=True)\n",
    "    df['HistVol'] = HistVol  # Asumimos que HistVol es una constante o está calculada en otro lugar\n",
    "    df['OptionHV'] = round(df['HistVol'], 3)\n",
    "    df['IV_HV_Ratio'] = (df['optionIv'] / df['OptionHV']) * 100\n",
    "    df = df.round(2)\n",
    "else:\n",
    "    df = pd.DataFrame()  # Crea un DataFrame vacío si no hay datos de mercado\n",
    "\n",
    "df"
   ]
  },
  {
   "cell_type": "code",
   "execution_count": null,
   "id": "db2a8e31",
   "metadata": {},
   "outputs": [],
   "source": []
  },
  {
   "cell_type": "code",
   "execution_count": null,
   "id": "4685a88d",
   "metadata": {},
   "outputs": [],
   "source": [
    "date_range = pd.date_range(start='2024-04-25', end='2024-04-27')\n",
    "\n",
    "# Iterar sobre el rango de fechas y obtener la volatilidad implícita para cada fecha\n",
    "results = []\n",
    "for date in date_range:\n",
    "    iv_data = get_IV(first_option_symbol=first_option_symbol, date=date.strftime('%Y-%m-%d'))\n",
    "    if not iv_data.empty:\n",
    "        results.append(iv_data)\n",
    "    else:\n",
    "        print(f\"No market data for {date.strftime('%Y-%m-%d')}\")\n",
    "\n",
    "# Concatenar todos los DataFrames en uno solo si hay resultados\n",
    "if results:\n",
    "    df = pd.concat(results, ignore_index=True)\n",
    "    df['HistVol'] = HistVol  # Asumimos que HistVol es una constante o está calculada en otro lugar\n",
    "    df['OptionHV'] = round(df['HistVol'], 3)\n",
    "    df['IV_HV_Ratio'] = (df['optionIv'] / df['OptionHV']) * 100\n",
    "    df = df.round(2)\n",
    "else:\n",
    "    df = pd.DataFrame()  # Crea un DataFrame vacío si no hay datos de mercado\n",
    "\n",
    "df"
   ]
  },
  {
   "cell_type": "code",
   "execution_count": null,
   "id": "91bba3af",
   "metadata": {},
   "outputs": [],
   "source": []
  },
  {
   "cell_type": "code",
   "execution_count": null,
   "id": "8526e869",
   "metadata": {},
   "outputs": [],
   "source": [
    "# Rango de fechas desde '2024-04-20' hasta '2024-05-02'\n",
    "date_range = pd.date_range(start='2024-04-22', end='2024-04-24')\n",
    "\n",
    "# Iterar sobre el rango de fechas y obtener la volatilidad implícita para cada fecha\n",
    "results = []\n",
    "for date in date_range:\n",
    "    iv_data = get_IV(first_option_symbol=first_option_symbol, date=date.strftime('%Y-%m-%d'))\n",
    "    results.append(iv_data)\n",
    "\n",
    "# Concatenar todos los DataFrames en uno solo\n",
    "df = pd.concat(results, ignore_index=True)"
   ]
  },
  {
   "cell_type": "code",
   "execution_count": null,
   "id": "cc4c4bec",
   "metadata": {},
   "outputs": [],
   "source": [
    "df['HistVol'] = HistVol \n",
    "df['OptionHV'] = round(df['HistVol'], 3)\n",
    "df['IV_HV_Ratio'] = (df['optionIv'] / df['OptionHV']) * 100\n",
    "df = df.round(2)\n",
    "df"
   ]
  },
  {
   "cell_type": "code",
   "execution_count": null,
   "id": "ac7b8340",
   "metadata": {},
   "outputs": [],
   "source": []
  },
  {
   "cell_type": "code",
   "execution_count": null,
   "id": "d7373151",
   "metadata": {},
   "outputs": [],
   "source": []
  },
  {
   "cell_type": "code",
   "execution_count": null,
   "id": "bb346e94",
   "metadata": {},
   "outputs": [],
   "source": []
  },
  {
   "cell_type": "code",
   "execution_count": null,
   "id": "6dd6bb2d",
   "metadata": {},
   "outputs": [],
   "source": []
  },
  {
   "cell_type": "code",
   "execution_count": null,
   "id": "8704b976",
   "metadata": {},
   "outputs": [],
   "source": []
  },
  {
   "cell_type": "code",
   "execution_count": null,
   "id": "ec7be149",
   "metadata": {},
   "outputs": [],
   "source": []
  },
  {
   "cell_type": "code",
   "execution_count": null,
   "id": "6f588656",
   "metadata": {},
   "outputs": [],
   "source": []
  },
  {
   "cell_type": "code",
   "execution_count": null,
   "id": "80cd8d2c",
   "metadata": {},
   "outputs": [],
   "source": []
  },
  {
   "cell_type": "code",
   "execution_count": null,
   "id": "44dcf07f",
   "metadata": {},
   "outputs": [],
   "source": []
  },
  {
   "cell_type": "code",
   "execution_count": null,
   "id": "9e007248",
   "metadata": {},
   "outputs": [],
   "source": []
  },
  {
   "cell_type": "code",
   "execution_count": null,
   "id": "16c5c5f9",
   "metadata": {},
   "outputs": [],
   "source": []
  },
  {
   "cell_type": "code",
   "execution_count": null,
   "id": "73d39a02",
   "metadata": {},
   "outputs": [],
   "source": []
  },
  {
   "cell_type": "code",
   "execution_count": null,
   "id": "85b0cc8e",
   "metadata": {},
   "outputs": [],
   "source": []
  },
  {
   "cell_type": "code",
   "execution_count": null,
   "id": "f799f1cd",
   "metadata": {},
   "outputs": [],
   "source": []
  },
  {
   "cell_type": "code",
   "execution_count": null,
   "id": "8c754265",
   "metadata": {},
   "outputs": [],
   "source": []
  },
  {
   "cell_type": "code",
   "execution_count": null,
   "id": "7caa8281",
   "metadata": {},
   "outputs": [],
   "source": []
  },
  {
   "cell_type": "code",
   "execution_count": null,
   "id": "8f5f2a41",
   "metadata": {},
   "outputs": [],
   "source": []
  },
  {
   "cell_type": "code",
   "execution_count": null,
   "id": "0ac16854",
   "metadata": {},
   "outputs": [],
   "source": []
  },
  {
   "cell_type": "code",
   "execution_count": null,
   "id": "78a9e830",
   "metadata": {},
   "outputs": [],
   "source": []
  },
  {
   "cell_type": "code",
   "execution_count": null,
   "id": "c95e7325",
   "metadata": {},
   "outputs": [],
   "source": []
  },
  {
   "cell_type": "code",
   "execution_count": null,
   "id": "51066b5b",
   "metadata": {},
   "outputs": [],
   "source": []
  },
  {
   "cell_type": "code",
   "execution_count": null,
   "id": "a040fc17",
   "metadata": {},
   "outputs": [],
   "source": []
  },
  {
   "cell_type": "code",
   "execution_count": null,
   "id": "783dd9ed",
   "metadata": {},
   "outputs": [],
   "source": []
  },
  {
   "cell_type": "code",
   "execution_count": null,
   "id": "23201599",
   "metadata": {},
   "outputs": [],
   "source": []
  },
  {
   "cell_type": "code",
   "execution_count": null,
   "id": "21d20919",
   "metadata": {},
   "outputs": [],
   "source": []
  },
  {
   "cell_type": "code",
   "execution_count": null,
   "id": "e6630882",
   "metadata": {},
   "outputs": [],
   "source": []
  },
  {
   "cell_type": "code",
   "execution_count": null,
   "id": "15ffb788",
   "metadata": {},
   "outputs": [],
   "source": []
  },
  {
   "cell_type": "code",
   "execution_count": null,
   "id": "a99fd8da",
   "metadata": {},
   "outputs": [],
   "source": []
  },
  {
   "cell_type": "code",
   "execution_count": null,
   "id": "d8c16670",
   "metadata": {},
   "outputs": [],
   "source": []
  },
  {
   "cell_type": "code",
   "execution_count": null,
   "id": "1ed8fafb",
   "metadata": {},
   "outputs": [],
   "source": []
  },
  {
   "cell_type": "code",
   "execution_count": null,
   "id": "dc158e15",
   "metadata": {},
   "outputs": [],
   "source": [
    "\n"
   ]
  },
  {
   "cell_type": "code",
   "execution_count": null,
   "id": "09fec5c6",
   "metadata": {},
   "outputs": [],
   "source": []
  },
  {
   "cell_type": "code",
   "execution_count": null,
   "id": "ea5ef609",
   "metadata": {},
   "outputs": [],
   "source": []
  },
  {
   "cell_type": "code",
   "execution_count": null,
   "id": "2a2b67ed",
   "metadata": {},
   "outputs": [],
   "source": []
  },
  {
   "cell_type": "code",
   "execution_count": null,
   "id": "4ab32fcc",
   "metadata": {},
   "outputs": [],
   "source": []
  }
 ],
 "metadata": {
  "kernelspec": {
   "display_name": "Python 3 (ipykernel)",
   "language": "python",
   "name": "python3"
  },
  "language_info": {
   "codemirror_mode": {
    "name": "ipython",
    "version": 3
   },
   "file_extension": ".py",
   "mimetype": "text/x-python",
   "name": "python",
   "nbconvert_exporter": "python",
   "pygments_lexer": "ipython3",
   "version": "3.11.5"
  }
 },
 "nbformat": 4,
 "nbformat_minor": 5
}
