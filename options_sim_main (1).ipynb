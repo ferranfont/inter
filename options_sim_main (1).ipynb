{
 "cells": [
  {
   "cell_type": "code",
   "execution_count": 1,
   "id": "e3bf80c9",
   "metadata": {},
   "outputs": [],
   "source": [
    "import yfinance as yf\n",
    "import matplotlib.pyplot as plt\n",
    "from scipy.stats import chi2_contingency\n",
    "import seaborn as sns\n",
    "import pandas as pd\n",
    "import requests\n",
    "import os\n",
    "import re\n",
    "import time\n",
    "import numpy as np\n",
    "import holidays\n",
    "from datetime import datetime, timedelta\n",
    "from scipy.stats import skew, kurtosis\n",
    "from scipy.optimize import brentq\n",
    "import scipy.stats as si\n",
    "from scipy.stats import norm\n",
    "import matplotlib.patches as patches\n",
    "import ast\n",
    "from polygon import RESTClient\n",
    "from polygon.rest.models.request import RequestOptionBuilder\n",
    "import warnings\n",
    "pd.set_option('display.max_columns', None)\n",
    "warnings.filterwarnings(\"ignore\")\n",
    "from requests.exceptions import HTTPError\n",
    "import matplotlib.ticker as ticker\n",
    "import matplotlib.pyplot as plt\n",
    "from datetime import datetime\n",
    "import matplotlib.patches as patches\n",
    "API_KEY = \"HsOX1rl8t3B1AJfl4O2uqscUp372l7EF\"\n",
    "us_holidays = holidays.US(years=2024)\n",
    "dst_start = pd.to_datetime('2024-03-10')\n",
    "dst_end = pd.to_datetime('2024-11-03')\n",
    "fila =6 # Determina el ancho de la caja en la que buscaremos el máx y el mín.\n",
    "# no confundir fila que determina la caja del IB con row que determina el núm. de índice cuando la caja es rota."
   ]
  },
  {
   "cell_type": "code",
   "execution_count": 2,
   "id": "b1ad6575",
   "metadata": {},
   "outputs": [],
   "source": [
    "def get_time_based_on_dst(fecha):\n",
    "    if dst_start <= fecha <= dst_end:\n",
    "        return pd.to_datetime('13:30:00').time()\n",
    "    else:\n",
    "        return pd.to_datetime('14:30:00').time()\n",
    "\n",
    "def next_working_day(date, DTE):\n",
    "    date_obj = datetime.strptime(date, '%Y-%m-%d')\n",
    "    next_day = date_obj + timedelta(days= DTE)\n",
    "    while next_day.weekday() in (5, 6) or next_day in us_holidays:\n",
    "        next_day += timedelta(days=1)\n",
    "    return next_day.strftime('%Y-%m-%d')\n",
    "\n",
    "def get_stock_price(date, expiration_day):\n",
    "    url = f\"https://api.polygon.io/v2/aggs/ticker/SPY/range/1/minute/{date}/{expiration_day}?adjusted=true&sort=asc&apiKey={API_KEY}\"\n",
    "    #print(url)  # For debugging purposes\n",
    "    #print(f\"Trading Date:    {date}\")\n",
    "    #print(f\"Expiration Date: {expiration_day}\")\n",
    "    response = requests.get(url)\n",
    "\n",
    "    if response.status_code == 200:\n",
    "        try:\n",
    "            data = response.json()\n",
    "            if 'results' in data:\n",
    "                return [(result['t'], result['c']) for result in data['results']]\n",
    "            else:\n",
    "                raise ValueError(\"Response JSON does not contain 'results' key\")\n",
    "        except ValueError as e:\n",
    "            print(f\"Error parsing JSON: {e}\")\n",
    "    else:\n",
    "        print(f\"Request failed with status code {response.status_code}\")\n",
    "    return []\n",
    "\n",
    "def get_stock_data_for_date(date, DTE):\n",
    "    expiration_day = next_working_day_1(date, DTE)\n",
    "    option_data = get_stock_price(date, expiration_day)\n",
    "    df = pd.DataFrame(option_data, columns=['timestamp', 'stock_price'])\n",
    "    df['fecha'] = pd.to_datetime(df['timestamp'], unit='ms')\n",
    "    df['time_filter'] = df['fecha'].apply(get_time_based_on_dst)\n",
    "    df = df[df['fecha'].dt.time >= df['time_filter']]\n",
    "    df['stock_price'] = round(df['stock_price'],2)\n",
    "    df = df.reset_index(drop=True)\n",
    "    df.drop(columns=['time_filter'], inplace=True)\n",
    "    return df"
   ]
  },
  {
   "cell_type": "code",
   "execution_count": 3,
   "id": "3576a16d",
   "metadata": {},
   "outputs": [],
   "source": [
    "def get_option_price(ticker, date, expiration_day, option_type):\n",
    "    url = f\"https://api.polygon.io/v2/aggs/ticker/{ticker}/range/1/minute/{date}/{expiration_day}?adjusted=true&sort=asc&apiKey={API_KEY}\"\n",
    "    print(url)\n",
    "    response = requests.get(url)\n",
    "    if response.status_code == 200:\n",
    "        try:\n",
    "            data = response.json()\n",
    "            # Ensure 'results' key is present in the JSON response\n",
    "            if 'results' in data:\n",
    "                results = data['results']\n",
    "                df_option = pd.DataFrame(results)\n",
    "                \n",
    "                # Check what columns are in df_option\n",
    "                print(df_option.columns)\n",
    "                \n",
    "                # Rename columns if they exist\n",
    "                if all(col in df_option.columns for col in ['o', 'c', 'l', 'h']):\n",
    "                    df_option = df_option.rename(columns={\n",
    "                        't': 'timestamp',\n",
    "                        'o': 'open',\n",
    "                        'c': 'close',\n",
    "                        'l': 'low',\n",
    "                        'h': 'high'\n",
    "                    })\n",
    "                    df_option['option_code'] = ticker\n",
    "                    df_option['option_type'] = option_type                \n",
    "                    return df_option[['timestamp', 'option_code', 'option_type', 'close']]\n",
    "                else:\n",
    "                    print(\"Expected columns are not present in the returned data.\")\n",
    "        except ValueError as e:\n",
    "            print(f\"Error parsing JSON: {e}\")\n",
    "    else:\n",
    "        print(f\"Request failed with status code {response.status_code}\")\n",
    "    return None"
   ]
  },
  {
   "cell_type": "code",
   "execution_count": 4,
   "id": "e806c76e",
   "metadata": {},
   "outputs": [],
   "source": [
    "def plot_option_chart(df_option, strike_B, option_type_B, option_ticker_B, fila, option_type_A, strike_A):\n",
    "    ovenight_index = int(len(df_option) / 2) - 40\n",
    "    end_index = len(df_option) - 2\n",
    "\n",
    "    df_option['fecha'] = df_option['fecha'].astype(str)\n",
    "    fig, (ax1, ax3) = plt.subplots(nrows=2, ncols=1, figsize=(12, 9), gridspec_kw={'height_ratios': [3, 1], 'hspace': 0.04})\n",
    "    ax2 = ax1.twinx()\n",
    "    \n",
    "    ax1.plot(df_option['fecha'], df_option['close_B'], color='green', label='B', linewidth=2.0)\n",
    "    ax1.plot(df_option['fecha'], df_option['close_A'], color='olive', label='A', linewidth=1.4)\n",
    "    \n",
    "    ax2.plot(df_option['fecha'], df_option['stock_price'], color='blue', alpha=1.0, linewidth=0.8)\n",
    "    ax1.set_ylabel('Prima', color='green')\n",
    "    ax2.set_ylabel('Stock Price', color='blue')\n",
    "    ax1.tick_params(axis='y', labelcolor='green')\n",
    "    ax2.tick_params(axis='y', labelcolor='blue')\n",
    "    ax1.yaxis.grid(True, alpha=0.6)\n",
    "    ax1.xaxis.grid(False)\n",
    "    \n",
    "    ax1.tick_params(axis='x', which='both', length=0, labelbottom=False)\n",
    "    \n",
    "    ax1.axvline(x=fila, color='grey', alpha=0.56, linestyle='-', linewidth=0.7)\n",
    "    ax1.axvline(x=ovenight_index, color='grey', alpha=0.5, linestyle='-', linewidth=0.7)\n",
    "    \n",
    "    ax2.axhline(y=strike_B, color='green', alpha=0.7, linestyle='--')\n",
    "    ax2.axhline(y=strike_A, color='olive', alpha=0.7, linestyle='--')\n",
    "\n",
    "    \n",
    "    ax1.plot(df_option['fecha'][fila], df_option['close_B'][fila], 'ko', markersize=9)\n",
    "    \n",
    "    ax1.plot(df_option['fecha'][ovenight_index], df_option['close_B'][ovenight_index], 'ro', markersize=9)\n",
    "    ax1.plot(df_option['fecha'][end_index], df_option['close_B'][end_index], 'ro', markersize=9)\n",
    "    \n",
    "    ax1.set_title(f'Main: {option_ticker_B} - A:{option_type_A}{strike_A}  B:{option_type_B}{strike_B}')\n",
    "    \n",
    "    ax3.fill_between(df_option['fecha'], df_option['cum_return'], where=(df_option['cum_return'] >= 0),\n",
    "                     color='green', alpha=0.5, label=' ')\n",
    "    ax3.fill_between(df_option['fecha'], df_option['cum_return'], where=(df_option['cum_return'] < 0),\n",
    "                     color='red', alpha=0.5, label=' ')\n",
    "    ax3.set_ylabel('Beneficio Acumulado')\n",
    "    ax3.tick_params(axis='y')\n",
    "    ax3.xaxis.set_major_locator(plt.MaxNLocator(10))\n",
    "    \n",
    "    for tick in ax3.get_xticklabels():\n",
    "        tick.set_rotation(45)\n",
    "        tick.set_horizontalalignment('right')\n",
    "\n",
    "    ax3.yaxis.grid(True, alpha=0.6)\n",
    "    ax3.xaxis.grid(False)\n",
    "    ax1.legend(loc='upper center')\n",
    "\n",
    "    output_dir = 'chart_oputput_sim'\n",
    "    timestamp = datetime.now().strftime('%Y%m%d_%H%M%S')\n",
    "    filename = f'sell_the_swan_{timestamp}.png'\n",
    "    output_path = os.path.join(output_dir, filename)\n",
    "    plt.savefig(output_path)\n",
    "    plt.show()"
   ]
  },
  {
   "cell_type": "code",
   "execution_count": 5,
   "id": "f74d159b",
   "metadata": {},
   "outputs": [],
   "source": [
    "def generate_option_ticker(expiration_day_B, option_type_B, strike_B):\n",
    "    # Convert expiration_day_B to the desired format (YYMMDD without '20' and '-')\n",
    "    expiration_day_B_formatted = expiration_day_B.strftime('%y%m%d')\n",
    "    strike_B_formatted = f'{strike_B:05d}'\n",
    "    option_ticker_B = f'O:SPY{expiration_day_B_formatted}{option_type_B}{strike_B_formatted}000'\n",
    "    return option_ticker_B"
   ]
  },
  {
   "cell_type": "markdown",
   "id": "b354dc4c",
   "metadata": {},
   "source": [
    "DISEÑO"
   ]
  },
  {
   "cell_type": "code",
   "execution_count": 6,
   "id": "78ab007b",
   "metadata": {},
   "outputs": [],
   "source": [
    "date = '2024-08-06'\n",
    "\n",
    "# OPTION A\n",
    "option_type_A = 'P'\n",
    "distance_A =    -3\n",
    "DTE_A =          1\n",
    "\n",
    "# OPTION B\n",
    "option_type_B = 'P'\n",
    "distance_B =    -1\n",
    "DTE_B =          1\n",
    "\n",
    "# OPTION C\n",
    "option_type_C = 'C'\n",
    "distance_C =     1\n",
    "DTE_C =          1\n"
   ]
  },
  {
   "cell_type": "code",
   "execution_count": 7,
   "id": "b787bcae",
   "metadata": {},
   "outputs": [
    {
     "ename": "NameError",
     "evalue": "name 'next_working_day_1' is not defined",
     "output_type": "error",
     "traceback": [
      "\u001b[1;31m---------------------------------------------------------------------------\u001b[0m",
      "\u001b[1;31mNameError\u001b[0m                                 Traceback (most recent call last)",
      "Cell \u001b[1;32mIn[7], line 2\u001b[0m\n\u001b[0;32m      1\u001b[0m \u001b[38;5;66;03m# OPTION A - elegir vencimiento\u001b[39;00m\n\u001b[1;32m----> 2\u001b[0m df \u001b[38;5;241m=\u001b[39m \u001b[43mget_stock_data_for_date\u001b[49m\u001b[43m(\u001b[49m\u001b[43mdate\u001b[49m\u001b[43m,\u001b[49m\u001b[43m \u001b[49m\u001b[43mDTE_A\u001b[49m\u001b[43m)\u001b[49m\n\u001b[0;32m      3\u001b[0m expiration_day_A \u001b[38;5;241m=\u001b[39m next_working_day(date, DTE_A)   \u001b[38;5;66;03m# INDICARE AQUÍ LA CALENDAR PARA LA COBERTURA\u001b[39;00m\n\u001b[0;32m      4\u001b[0m expiration_day_A \u001b[38;5;241m=\u001b[39m pd\u001b[38;5;241m.\u001b[39mto_datetime(expiration_day_A)\u001b[38;5;241m.\u001b[39mdate()\n",
      "Cell \u001b[1;32mIn[2], line 35\u001b[0m, in \u001b[0;36mget_stock_data_for_date\u001b[1;34m(date, DTE)\u001b[0m\n\u001b[0;32m     34\u001b[0m \u001b[38;5;28;01mdef\u001b[39;00m \u001b[38;5;21mget_stock_data_for_date\u001b[39m(date, DTE):\n\u001b[1;32m---> 35\u001b[0m     expiration_day \u001b[38;5;241m=\u001b[39m \u001b[43mnext_working_day_1\u001b[49m(date, DTE)\n\u001b[0;32m     36\u001b[0m     option_data \u001b[38;5;241m=\u001b[39m get_stock_price(date, expiration_day)\n\u001b[0;32m     37\u001b[0m     df \u001b[38;5;241m=\u001b[39m pd\u001b[38;5;241m.\u001b[39mDataFrame(option_data, columns\u001b[38;5;241m=\u001b[39m[\u001b[38;5;124m'\u001b[39m\u001b[38;5;124mtimestamp\u001b[39m\u001b[38;5;124m'\u001b[39m, \u001b[38;5;124m'\u001b[39m\u001b[38;5;124mstock_price\u001b[39m\u001b[38;5;124m'\u001b[39m])\n",
      "\u001b[1;31mNameError\u001b[0m: name 'next_working_day_1' is not defined"
     ]
    }
   ],
   "source": [
    "# OPTION A - elegir vencimiento\n",
    "df = get_stock_data_for_date(date, DTE_A)\n",
    "expiration_day_A = next_working_day(date, DTE_A)   # INDICARE AQUÍ LA CALENDAR PARA LA COBERTURA\n",
    "expiration_day_A = pd.to_datetime(expiration_day_A).date()\n",
    "current_stock_price = int(df.iloc[fila]['stock_price'])\n",
    "strike_A = current_stock_price + distance_A\n",
    "option_ticker_A = generate_option_ticker(expiration_day_A, option_type_A, strike_A)\n",
    "print (option_ticker_A)\n",
    "df_option_A = get_option_price(option_ticker_A, date, expiration_day_A, option_type_A)\n",
    "df_option_A.rename(columns={'option_code': 'option_code_A', 'close': 'close_A', 'option_type': 'option_type_A'}, inplace=True)"
   ]
  },
  {
   "cell_type": "code",
   "execution_count": null,
   "id": "a13d0edd",
   "metadata": {},
   "outputs": [],
   "source": [
    "# OPTION B - elegir vencimiento\n",
    "df = get_stock_data_for_date(date, DTE_B)\n",
    "expiration_day_B = next_working_day(date, DTE_B)   # INDICARE AQUÍ LA CALENDAR PARA LA COBERTURA\n",
    "expiration_day_B = pd.to_datetime(expiration_day_B).date()\n",
    "current_stock_price = int(df.iloc[fila]['stock_price'])\n",
    "strike_B = current_stock_price + distance_B\n",
    "option_ticker_B = generate_option_ticker(expiration_day_B, option_type_B, strike_B)\n",
    "print (option_ticker_B)\n",
    "df_option_B = get_option_price(option_ticker_B, date, expiration_day_B, option_type_B)\n",
    "df_option_B.rename(columns={'option_code': 'option_code_B', 'close': 'close_B', 'option_type': 'option_type_B'}, inplace=True)"
   ]
  },
  {
   "cell_type": "code",
   "execution_count": null,
   "id": "01d70a1f",
   "metadata": {},
   "outputs": [],
   "source": [
    "# OPTION C - elegir vencimiento\n",
    "df = get_stock_data_for_date(date, DTE_C)\n",
    "expiration_day_C = next_working_day(date, DTE_C)   # INDICARE AQUÍ LA CALENDAR PARA LA COBERTURA\n",
    "expiration_day_C = pd.to_datetime(expiration_day_C).date()\n",
    "current_stock_price = int(df.iloc[fila]['stock_price'])\n",
    "strike_C = current_stock_price + distance_C\n",
    "option_ticker_C = generate_option_ticker(expiration_day_C, option_type_C, strike_C)\n",
    "print (option_ticker_B)\n",
    "df_option_C = get_option_price(option_ticker_C, date, expiration_day_C, option_type_C)\n",
    "df_option_C.rename(columns={'option_code': 'option_code_C', 'close': 'close_C', 'option_type': 'option_type_C'}, inplace=True)"
   ]
  },
  {
   "cell_type": "code",
   "execution_count": null,
   "id": "bc6812f0",
   "metadata": {},
   "outputs": [],
   "source": [
    "print('\\nOPCION A')\n",
    "print(f'Fecha entrada      {date}')\n",
    "print(f'Fecha vencimiento  {expiration_day_A}')\n",
    "print(f'Precio Subyacente         {current_stock_price}')\n",
    "print(f'Precio Strike {option_type_A}{distance_A}         {strike_A}')\n",
    "print(f'DTE                         {DTE_A}\\n')\n",
    "print('OPCION B')\n",
    "print(f'Fecha entrada      {date}')\n",
    "print(f'Fecha vencimiento  {expiration_day_B}')\n",
    "print(f'Precio Subyacente         {current_stock_price}')\n",
    "print(f'Precio Strike {option_type_B}{distance_B}         {strike_B}')\n",
    "print(f'DTE                         {DTE_B}\\n')\n",
    "print('OPCION C')\n",
    "print(f'Fecha entrada      {date}')\n",
    "print(f'Fecha vencimiento  {expiration_day_C}')\n",
    "print(f'Precio Subyacente         {current_stock_price}')\n",
    "print(f'Precio Strike {option_type_C}{distance_C}          {strike_C}')\n",
    "print(f'DTE                         {DTE_C}\\n')"
   ]
  },
  {
   "cell_type": "markdown",
   "id": "28ed2824",
   "metadata": {},
   "source": [
    "MERGE, PROFIT AND PLOT"
   ]
  },
  {
   "cell_type": "code",
   "execution_count": null,
   "id": "01ad4835",
   "metadata": {},
   "outputs": [],
   "source": [
    "df_option = pd.merge(df_option_B, df, on='timestamp', how='left')\n",
    "df_option = pd.merge(df_option, df_option_A,  on='timestamp', how='left')"
   ]
  },
  {
   "cell_type": "code",
   "execution_count": null,
   "id": "f4673e8c",
   "metadata": {},
   "outputs": [],
   "source": [
    "coste_B = df_option['close_B'].iloc[0]\n",
    "df_option['cum_return_B'] = coste_B - df_option['close_B']\n",
    "\n",
    "coste_A = df_option['close_A'].iloc[0]\n",
    "df_option['cum_return_A'] = df_option['close_A'] - coste_A \n",
    "\n",
    "df_option['cum_return'] = df_option['cum_return_B'] + df_option['cum_return_A']\n",
    "df_option = df_option.fillna(method='ffill')"
   ]
  },
  {
   "cell_type": "code",
   "execution_count": null,
   "id": "89978cee",
   "metadata": {},
   "outputs": [],
   "source": [
    "plot_option_chart(df_option, strike_B, option_type_B, option_ticker_B, fila, option_type_A, strike_A)"
   ]
  },
  {
   "cell_type": "code",
   "execution_count": null,
   "id": "4aeb7aa0",
   "metadata": {},
   "outputs": [],
   "source": [
    "timestamp = datetime.now().strftime('%Y%m%d_%H%M%S')\n",
    "filename = f'options_sim_{timestamp}.csv'\n",
    "df_option.to_csv(filename, index=False)"
   ]
  },
  {
   "cell_type": "code",
   "execution_count": null,
   "id": "d083f1b6",
   "metadata": {},
   "outputs": [],
   "source": [
    "df_option"
   ]
  },
  {
   "cell_type": "code",
   "execution_count": null,
   "id": "bcb75329",
   "metadata": {},
   "outputs": [],
   "source": []
  },
  {
   "cell_type": "code",
   "execution_count": null,
   "id": "d1da745e",
   "metadata": {},
   "outputs": [],
   "source": []
  },
  {
   "cell_type": "code",
   "execution_count": null,
   "id": "4efe6905",
   "metadata": {},
   "outputs": [],
   "source": []
  },
  {
   "cell_type": "code",
   "execution_count": null,
   "id": "b6bb98f2",
   "metadata": {},
   "outputs": [],
   "source": []
  },
  {
   "cell_type": "code",
   "execution_count": null,
   "id": "caab0ab9",
   "metadata": {},
   "outputs": [],
   "source": []
  }
 ],
 "metadata": {
  "kernelspec": {
   "display_name": "Python 3 (ipykernel)",
   "language": "python",
   "name": "python3"
  },
  "language_info": {
   "codemirror_mode": {
    "name": "ipython",
    "version": 3
   },
   "file_extension": ".py",
   "mimetype": "text/x-python",
   "name": "python",
   "nbconvert_exporter": "python",
   "pygments_lexer": "ipython3",
   "version": "3.10.9"
  }
 },
 "nbformat": 4,
 "nbformat_minor": 5
}
