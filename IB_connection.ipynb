{
 "cells": [
  {
   "cell_type": "markdown",
   "id": "48f7a1f8",
   "metadata": {},
   "source": [
    "# Instalación del Api de IB"
   ]
  },
  {
   "cell_type": "code",
   "execution_count": 1,
   "id": "c48fb28e",
   "metadata": {},
   "outputs": [],
   "source": [
    "from ibapi.client import EClient\n",
    "from ibapi.wrapper import EWrapper\n",
    "from ibapi.contract import Contract\n",
    "import pandas as pd\n",
    "import matplotlib.pyplot as plt"
   ]
  },
  {
   "cell_type": "code",
   "execution_count": 2,
   "id": "c64771fd",
   "metadata": {},
   "outputs": [],
   "source": [
    "class MyWrapper(EWrapper):\n",
    "    def __init__(self):\n",
    "        self.datos_list = []\n",
    "        self.datos = None\n",
    "        \n",
    "    def nextValidId(self, orderId:int):\n",
    "        print(\"Comienza la petición con Id:\", orderId)\n",
    "        self.start()\n",
    "    \n",
    "    def historicalData(self, reqId, bar):\n",
    "        # Por cada linea vamos sacando las variables y\n",
    "        # añadiéndola a la lista\n",
    "        self.datos_list.append(vars(bar));\n",
    "        \n",
    "    def historicalDataEnd(self, reqId: int, start: str, end: str):\n",
    "        # Al finalizar ponemos los datos en formato dataframe,\n",
    "        # la fecha en formato datetime y la ponemos como indice\n",
    "        print(\"Final. ReqId:\", reqId, \"(\", start, \"/\", end,\")\")\n",
    "        self.datos = pd.DataFrame(self.datos_list)\n",
    "        self.datos['date'] = pd.to_datetime(self.datos['date'])\n",
    "        self.datos.set_index('date', inplace=True)\n",
    "        app.disconnect()\n",
    "        \n",
    "    def error(self, reqId, errorCode, errorString):\n",
    "        # Mostramos los mensajes que devuelve el IB Gateway\n",
    "        print(errorString,\" (Id:\", reqId, \" Code:\", errorCode,\")\")\n",
    "\n",
    "    def start(self):        \n",
    "        # Creamos en contrato\n",
    "        contrato = Contract()\n",
    "        contrato.symbol = \"SPY\"\n",
    "        contrato.secType = \"STK\" \n",
    "        contrato.currency = \"USD\"\n",
    "        contrato.exchange = \"ARCA\"\n",
    "        \n",
    "        # Hacemos la petición de los datos\n",
    "        app.reqHistoricalData(1, contrato, \"\", \"30 Y\", \"4 hours\", \"MIDPOINT\", 0, 1, False, [])"
   ]
  },
  {
   "cell_type": "code",
   "execution_count": 3,
   "id": "b7d355a0",
   "metadata": {},
   "outputs": [
    {
     "name": "stdout",
     "output_type": "stream",
     "text": [
      "Couldn't connect to TWS. Confirm that \"Enable ActiveX and Socket EClients\" \n",
      "is enabled and connection port is the same as \"Socket Port\" on the \n",
      "TWS \"Edit->Global Configuration...->API->Settings\" menu. Live Trading ports: \n",
      "TWS: 7496; IB Gateway: 4001. Simulated Trading ports for new installations \n",
      "of version 954.1 or newer:  TWS: 7497; IB Gateway: 4002  (Id: -1  Code: 502 )\n"
     ]
    }
   ],
   "source": [
    "wrap = MyWrapper()\n",
    "app = EClient(wrap)\n",
    "app.connect(\"127.0.0.1\", 4002, clientId=1)\n",
    "app.run()"
   ]
  },
  {
   "cell_type": "code",
   "execution_count": 4,
   "id": "ffa5cc4c",
   "metadata": {},
   "outputs": [
    {
     "data": {
      "text/html": [
       "<div>\n",
       "<style scoped>\n",
       "    .dataframe tbody tr th:only-of-type {\n",
       "        vertical-align: middle;\n",
       "    }\n",
       "\n",
       "    .dataframe tbody tr th {\n",
       "        vertical-align: top;\n",
       "    }\n",
       "\n",
       "    .dataframe thead th {\n",
       "        text-align: right;\n",
       "    }\n",
       "</style>\n",
       "<table border=\"1\" class=\"dataframe\">\n",
       "  <thead>\n",
       "    <tr style=\"text-align: right;\">\n",
       "      <th></th>\n",
       "      <th>open</th>\n",
       "      <th>high</th>\n",
       "      <th>low</th>\n",
       "      <th>close</th>\n",
       "      <th>volume</th>\n",
       "      <th>barCount</th>\n",
       "      <th>average</th>\n",
       "    </tr>\n",
       "    <tr>\n",
       "      <th>date</th>\n",
       "      <th></th>\n",
       "      <th></th>\n",
       "      <th></th>\n",
       "      <th></th>\n",
       "      <th></th>\n",
       "      <th></th>\n",
       "      <th></th>\n",
       "    </tr>\n",
       "  </thead>\n",
       "  <tbody>\n",
       "    <tr>\n",
       "      <th>2004-02-06 15:30:00</th>\n",
       "      <td>113.45</td>\n",
       "      <td>114.47</td>\n",
       "      <td>113.22</td>\n",
       "      <td>114.34</td>\n",
       "      <td>-1</td>\n",
       "      <td>-1</td>\n",
       "      <td>-1.0</td>\n",
       "    </tr>\n",
       "    <tr>\n",
       "      <th>2004-02-06 17:00:00</th>\n",
       "      <td>114.34</td>\n",
       "      <td>114.55</td>\n",
       "      <td>114.09</td>\n",
       "      <td>114.50</td>\n",
       "      <td>-1</td>\n",
       "      <td>-1</td>\n",
       "      <td>-1.0</td>\n",
       "    </tr>\n",
       "    <tr>\n",
       "      <th>2004-02-06 21:00:00</th>\n",
       "      <td>114.50</td>\n",
       "      <td>114.68</td>\n",
       "      <td>114.41</td>\n",
       "      <td>114.44</td>\n",
       "      <td>-1</td>\n",
       "      <td>-1</td>\n",
       "      <td>-1.0</td>\n",
       "    </tr>\n",
       "    <tr>\n",
       "      <th>2004-02-09 17:00:00</th>\n",
       "      <td>114.54</td>\n",
       "      <td>114.86</td>\n",
       "      <td>114.41</td>\n",
       "      <td>114.41</td>\n",
       "      <td>-1</td>\n",
       "      <td>-1</td>\n",
       "      <td>-1.0</td>\n",
       "    </tr>\n",
       "    <tr>\n",
       "      <th>2004-02-09 21:00:00</th>\n",
       "      <td>114.41</td>\n",
       "      <td>114.51</td>\n",
       "      <td>114.29</td>\n",
       "      <td>114.49</td>\n",
       "      <td>-1</td>\n",
       "      <td>-1</td>\n",
       "      <td>-1.0</td>\n",
       "    </tr>\n",
       "    <tr>\n",
       "      <th>...</th>\n",
       "      <td>...</td>\n",
       "      <td>...</td>\n",
       "      <td>...</td>\n",
       "      <td>...</td>\n",
       "      <td>...</td>\n",
       "      <td>...</td>\n",
       "      <td>...</td>\n",
       "    </tr>\n",
       "    <tr>\n",
       "      <th>2024-04-11 22:00:00</th>\n",
       "      <td>518.06</td>\n",
       "      <td>518.51</td>\n",
       "      <td>517.80</td>\n",
       "      <td>518.26</td>\n",
       "      <td>-1</td>\n",
       "      <td>-1</td>\n",
       "      <td>-1.0</td>\n",
       "    </tr>\n",
       "    <tr>\n",
       "      <th>2024-04-12 10:00:00</th>\n",
       "      <td>519.08</td>\n",
       "      <td>519.08</td>\n",
       "      <td>515.37</td>\n",
       "      <td>516.82</td>\n",
       "      <td>-1</td>\n",
       "      <td>-1</td>\n",
       "      <td>-1.0</td>\n",
       "    </tr>\n",
       "    <tr>\n",
       "      <th>2024-04-12 14:00:00</th>\n",
       "      <td>516.82</td>\n",
       "      <td>517.26</td>\n",
       "      <td>512.02</td>\n",
       "      <td>513.39</td>\n",
       "      <td>-1</td>\n",
       "      <td>-1</td>\n",
       "      <td>-1.0</td>\n",
       "    </tr>\n",
       "    <tr>\n",
       "      <th>2024-04-12 18:00:00</th>\n",
       "      <td>513.39</td>\n",
       "      <td>513.54</td>\n",
       "      <td>509.08</td>\n",
       "      <td>510.82</td>\n",
       "      <td>-1</td>\n",
       "      <td>-1</td>\n",
       "      <td>-1.0</td>\n",
       "    </tr>\n",
       "    <tr>\n",
       "      <th>2024-04-12 22:00:00</th>\n",
       "      <td>510.82</td>\n",
       "      <td>511.09</td>\n",
       "      <td>509.86</td>\n",
       "      <td>509.89</td>\n",
       "      <td>-1</td>\n",
       "      <td>-1</td>\n",
       "      <td>-1.0</td>\n",
       "    </tr>\n",
       "  </tbody>\n",
       "</table>\n",
       "<p>20136 rows × 7 columns</p>\n",
       "</div>"
      ],
      "text/plain": [
       "                       open    high     low   close  volume  barCount  average\n",
       "date                                                                          \n",
       "2004-02-06 15:30:00  113.45  114.47  113.22  114.34      -1        -1     -1.0\n",
       "2004-02-06 17:00:00  114.34  114.55  114.09  114.50      -1        -1     -1.0\n",
       "2004-02-06 21:00:00  114.50  114.68  114.41  114.44      -1        -1     -1.0\n",
       "2004-02-09 17:00:00  114.54  114.86  114.41  114.41      -1        -1     -1.0\n",
       "2004-02-09 21:00:00  114.41  114.51  114.29  114.49      -1        -1     -1.0\n",
       "...                     ...     ...     ...     ...     ...       ...      ...\n",
       "2024-04-11 22:00:00  518.06  518.51  517.80  518.26      -1        -1     -1.0\n",
       "2024-04-12 10:00:00  519.08  519.08  515.37  516.82      -1        -1     -1.0\n",
       "2024-04-12 14:00:00  516.82  517.26  512.02  513.39      -1        -1     -1.0\n",
       "2024-04-12 18:00:00  513.39  513.54  509.08  510.82      -1        -1     -1.0\n",
       "2024-04-12 22:00:00  510.82  511.09  509.86  509.89      -1        -1     -1.0\n",
       "\n",
       "[20136 rows x 7 columns]"
      ]
     },
     "execution_count": 4,
     "metadata": {},
     "output_type": "execute_result"
    }
   ],
   "source": [
    "wrap.datos"
   ]
  },
  {
   "cell_type": "code",
   "execution_count": 5,
   "id": "8e438d7d",
   "metadata": {},
   "outputs": [
    {
     "data": {
      "text/plain": [
       "<Axes: xlabel='date'>"
      ]
     },
     "execution_count": 5,
     "metadata": {},
     "output_type": "execute_result"
    },
    {
     "data": {
      "image/png": "[encoded data removed]",
      "text/plain": [
       "<Figure size 1200x500 with 1 Axes>"
      ]
     },
     "metadata": {},
     "output_type": "display_data"
    }
   ],
   "source": [
    "%matplotlib inline \n",
    "plt.figure(figsize=(12, 5))\n",
    "wrap.datos.close.plot()"
   ]
  },
  {
   "cell_type": "code",
   "execution_count": 4,
   "id": "51e42d10",
   "metadata": {},
   "outputs": [
    {
     "data": {
      "text/html": [
       "<div>\n",
       "<style scoped>\n",
       "    .dataframe tbody tr th:only-of-type {\n",
       "        vertical-align: middle;\n",
       "    }\n",
       "\n",
       "    .dataframe tbody tr th {\n",
       "        vertical-align: top;\n",
       "    }\n",
       "\n",
       "    .dataframe thead th {\n",
       "        text-align: right;\n",
       "    }\n",
       "</style>\n",
       "<table border=\"1\" class=\"dataframe\">\n",
       "  <thead>\n",
       "    <tr style=\"text-align: right;\">\n",
       "      <th></th>\n",
       "    </tr>\n",
       "  </thead>\n",
       "  <tbody>\n",
       "  </tbody>\n",
       "</table>\n",
       "</div>"
      ],
      "text/plain": [
       "Empty DataFrame\n",
       "Columns: []\n",
       "Index: []"
      ]
     },
     "execution_count": 4,
     "metadata": {},
     "output_type": "execute_result"
    }
   ],
   "source": [
    "df = pd.DataFrame(wrap.datos)\n",
    "df"
   ]
  },
  {
   "cell_type": "code",
   "execution_count": null,
   "id": "602187c1",
   "metadata": {},
   "outputs": [],
   "source": []
  }
 ],
 "metadata": {
  "kernelspec": {
   "display_name": "Python 3 (ipykernel)",
   "language": "python",
   "name": "python3"
  },
  "language_info": {
   "codemirror_mode": {
    "name": "ipython",
    "version": 3
   },
   "file_extension": ".py",
   "mimetype": "text/x-python",
   "name": "python",
   "nbconvert_exporter": "python",
   "pygments_lexer": "ipython3",
   "version": "3.11.5"
  }
 },
 "nbformat": 4,
 "nbformat_minor": 5
}
