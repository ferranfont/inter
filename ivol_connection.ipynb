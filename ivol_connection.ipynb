{
 "cells": [
  {
   "cell_type": "code",
   "execution_count": 1,
   "id": "3e31962a",
   "metadata": {},
   "outputs": [],
   "source": [
    "import requests\n",
    "import pandas as pd\n",
    "import ivolatility as ivol\n",
    "import matplotlib.pyplot as plt\n",
    "\n",
    "# ivolatility connection\n",
    "apiKey = 'fFF8EEL54op7k0DN'\n",
    "ivol.setLoginParams(apiKey=apiKey)"
   ]
  },
  {
   "cell_type": "code",
   "execution_count": 2,
   "id": "8c754265",
   "metadata": {},
   "outputs": [],
   "source": [
    "# endpong method\n",
    "endpoint = '/equities/eod/stock-prices'\n",
    "getMarketData = ivol.setMethod(endpoint)\n",
    "df = getMarketData(symbol='TSLA', from_='2010-04-01', to='2024-04-30')"
   ]
  },
  {
   "cell_type": "code",
   "execution_count": 3,
   "id": "7caa8281",
   "metadata": {},
   "outputs": [
    {
     "data": {
      "text/html": [
       "<div>\n",
       "<style scoped>\n",
       "    .dataframe tbody tr th:only-of-type {\n",
       "        vertical-align: middle;\n",
       "    }\n",
       "\n",
       "    .dataframe tbody tr th {\n",
       "        vertical-align: top;\n",
       "    }\n",
       "\n",
       "    .dataframe thead th {\n",
       "        text-align: right;\n",
       "    }\n",
       "</style>\n",
       "<table border=\"1\" class=\"dataframe\">\n",
       "  <thead>\n",
       "    <tr style=\"text-align: right;\">\n",
       "      <th></th>\n",
       "      <th>record_no</th>\n",
       "      <th>date</th>\n",
       "      <th>symbol</th>\n",
       "      <th>exchange</th>\n",
       "      <th>open</th>\n",
       "      <th>high</th>\n",
       "      <th>low</th>\n",
       "      <th>close</th>\n",
       "      <th>volume</th>\n",
       "      <th>unadjusted_close</th>\n",
       "    </tr>\n",
       "  </thead>\n",
       "  <tbody>\n",
       "    <tr>\n",
       "      <th>0</th>\n",
       "      <td>1</td>\n",
       "      <td>2024-04-19 00:00:00.0</td>\n",
       "      <td>TSLA</td>\n",
       "      <td>NASDAQ</td>\n",
       "      <td>148.970000</td>\n",
       "      <td>150.940000</td>\n",
       "      <td>146.220000</td>\n",
       "      <td>147.050000</td>\n",
       "      <td>85936497</td>\n",
       "      <td>147.050000</td>\n",
       "    </tr>\n",
       "    <tr>\n",
       "      <th>1</th>\n",
       "      <td>2</td>\n",
       "      <td>2024-04-18 00:00:00.0</td>\n",
       "      <td>TSLA</td>\n",
       "      <td>NASDAQ</td>\n",
       "      <td>151.250000</td>\n",
       "      <td>152.200000</td>\n",
       "      <td>148.700000</td>\n",
       "      <td>149.930000</td>\n",
       "      <td>93997997</td>\n",
       "      <td>149.930000</td>\n",
       "    </tr>\n",
       "    <tr>\n",
       "      <th>2</th>\n",
       "      <td>3</td>\n",
       "      <td>2024-04-17 00:00:00.0</td>\n",
       "      <td>TSLA</td>\n",
       "      <td>NASDAQ</td>\n",
       "      <td>157.640000</td>\n",
       "      <td>158.330000</td>\n",
       "      <td>153.780000</td>\n",
       "      <td>155.450000</td>\n",
       "      <td>81773285</td>\n",
       "      <td>155.450000</td>\n",
       "    </tr>\n",
       "    <tr>\n",
       "      <th>3</th>\n",
       "      <td>4</td>\n",
       "      <td>2024-04-16 00:00:00.0</td>\n",
       "      <td>TSLA</td>\n",
       "      <td>NASDAQ</td>\n",
       "      <td>156.742000</td>\n",
       "      <td>158.190000</td>\n",
       "      <td>153.750000</td>\n",
       "      <td>157.110000</td>\n",
       "      <td>96505497</td>\n",
       "      <td>157.110000</td>\n",
       "    </tr>\n",
       "    <tr>\n",
       "      <th>4</th>\n",
       "      <td>5</td>\n",
       "      <td>2024-04-15 00:00:00.0</td>\n",
       "      <td>TSLA</td>\n",
       "      <td>NASDAQ</td>\n",
       "      <td>170.240000</td>\n",
       "      <td>170.690000</td>\n",
       "      <td>161.380000</td>\n",
       "      <td>161.480000</td>\n",
       "      <td>98675470</td>\n",
       "      <td>161.480000</td>\n",
       "    </tr>\n",
       "    <tr>\n",
       "      <th>...</th>\n",
       "      <td>...</td>\n",
       "      <td>...</td>\n",
       "      <td>...</td>\n",
       "      <td>...</td>\n",
       "      <td>...</td>\n",
       "      <td>...</td>\n",
       "      <td>...</td>\n",
       "      <td>...</td>\n",
       "      <td>...</td>\n",
       "      <td>...</td>\n",
       "    </tr>\n",
       "    <tr>\n",
       "      <th>3471</th>\n",
       "      <td>3472</td>\n",
       "      <td>2010-07-06 00:00:00.0</td>\n",
       "      <td>TSLA</td>\n",
       "      <td>NASDAQ</td>\n",
       "      <td>1.333333</td>\n",
       "      <td>1.333333</td>\n",
       "      <td>1.055333</td>\n",
       "      <td>1.074000</td>\n",
       "      <td>103003504</td>\n",
       "      <td>16.110000</td>\n",
       "    </tr>\n",
       "    <tr>\n",
       "      <th>3472</th>\n",
       "      <td>3473</td>\n",
       "      <td>2010-07-02 00:00:00.0</td>\n",
       "      <td>TSLA</td>\n",
       "      <td>NASDAQ</td>\n",
       "      <td>1.533333</td>\n",
       "      <td>1.540000</td>\n",
       "      <td>1.247333</td>\n",
       "      <td>1.280000</td>\n",
       "      <td>77097000</td>\n",
       "      <td>19.200000</td>\n",
       "    </tr>\n",
       "    <tr>\n",
       "      <th>3473</th>\n",
       "      <td>3474</td>\n",
       "      <td>2010-07-01 00:00:00.0</td>\n",
       "      <td>TSLA</td>\n",
       "      <td>NASDAQ</td>\n",
       "      <td>1.666667</td>\n",
       "      <td>1.728000</td>\n",
       "      <td>1.351333</td>\n",
       "      <td>1.464000</td>\n",
       "      <td>123282000</td>\n",
       "      <td>21.959997</td>\n",
       "    </tr>\n",
       "    <tr>\n",
       "      <th>3474</th>\n",
       "      <td>3475</td>\n",
       "      <td>2010-06-30 00:00:00.0</td>\n",
       "      <td>TSLA</td>\n",
       "      <td>NASDAQ</td>\n",
       "      <td>1.719333</td>\n",
       "      <td>2.028000</td>\n",
       "      <td>1.553333</td>\n",
       "      <td>1.588667</td>\n",
       "      <td>257806512</td>\n",
       "      <td>23.829998</td>\n",
       "    </tr>\n",
       "    <tr>\n",
       "      <th>3475</th>\n",
       "      <td>3476</td>\n",
       "      <td>2010-06-29 00:00:00.0</td>\n",
       "      <td>TSLA</td>\n",
       "      <td>NASDAQ</td>\n",
       "      <td>1.266667</td>\n",
       "      <td>1.666667</td>\n",
       "      <td>1.169333</td>\n",
       "      <td>1.592667</td>\n",
       "      <td>281494528</td>\n",
       "      <td>23.890000</td>\n",
       "    </tr>\n",
       "  </tbody>\n",
       "</table>\n",
       "<p>3476 rows × 10 columns</p>\n",
       "</div>"
      ],
      "text/plain": [
       "      record_no                   date symbol exchange        open  \\\n",
       "0             1  2024-04-19 00:00:00.0   TSLA   NASDAQ  148.970000   \n",
       "1             2  2024-04-18 00:00:00.0   TSLA   NASDAQ  151.250000   \n",
       "2             3  2024-04-17 00:00:00.0   TSLA   NASDAQ  157.640000   \n",
       "3             4  2024-04-16 00:00:00.0   TSLA   NASDAQ  156.742000   \n",
       "4             5  2024-04-15 00:00:00.0   TSLA   NASDAQ  170.240000   \n",
       "...         ...                    ...    ...      ...         ...   \n",
       "3471       3472  2010-07-06 00:00:00.0   TSLA   NASDAQ    1.333333   \n",
       "3472       3473  2010-07-02 00:00:00.0   TSLA   NASDAQ    1.533333   \n",
       "3473       3474  2010-07-01 00:00:00.0   TSLA   NASDAQ    1.666667   \n",
       "3474       3475  2010-06-30 00:00:00.0   TSLA   NASDAQ    1.719333   \n",
       "3475       3476  2010-06-29 00:00:00.0   TSLA   NASDAQ    1.266667   \n",
       "\n",
       "            high         low       close     volume  unadjusted_close  \n",
       "0     150.940000  146.220000  147.050000   85936497        147.050000  \n",
       "1     152.200000  148.700000  149.930000   93997997        149.930000  \n",
       "2     158.330000  153.780000  155.450000   81773285        155.450000  \n",
       "3     158.190000  153.750000  157.110000   96505497        157.110000  \n",
       "4     170.690000  161.380000  161.480000   98675470        161.480000  \n",
       "...          ...         ...         ...        ...               ...  \n",
       "3471    1.333333    1.055333    1.074000  103003504         16.110000  \n",
       "3472    1.540000    1.247333    1.280000   77097000         19.200000  \n",
       "3473    1.728000    1.351333    1.464000  123282000         21.959997  \n",
       "3474    2.028000    1.553333    1.588667  257806512         23.829998  \n",
       "3475    1.666667    1.169333    1.592667  281494528         23.890000  \n",
       "\n",
       "[3476 rows x 10 columns]"
      ]
     },
     "execution_count": 3,
     "metadata": {},
     "output_type": "execute_result"
    }
   ],
   "source": [
    "df"
   ]
  },
  {
   "cell_type": "code",
   "execution_count": 4,
   "id": "8f5f2a41",
   "metadata": {},
   "outputs": [
    {
     "data": {
      "text/html": [
       "<div>\n",
       "<style scoped>\n",
       "    .dataframe tbody tr th:only-of-type {\n",
       "        vertical-align: middle;\n",
       "    }\n",
       "\n",
       "    .dataframe tbody tr th {\n",
       "        vertical-align: top;\n",
       "    }\n",
       "\n",
       "    .dataframe thead th {\n",
       "        text-align: right;\n",
       "    }\n",
       "</style>\n",
       "<table border=\"1\" class=\"dataframe\">\n",
       "  <thead>\n",
       "    <tr style=\"text-align: right;\">\n",
       "      <th></th>\n",
       "      <th>record_no</th>\n",
       "      <th>symbol</th>\n",
       "      <th>exchange</th>\n",
       "      <th>date</th>\n",
       "      <th>price</th>\n",
       "      <th>10d HV</th>\n",
       "      <th>20d HV</th>\n",
       "      <th>30d HV</th>\n",
       "      <th>60d HV</th>\n",
       "      <th>90d HV</th>\n",
       "      <th>120d HV</th>\n",
       "      <th>150d HV</th>\n",
       "      <th>180d HV</th>\n",
       "    </tr>\n",
       "  </thead>\n",
       "  <tbody>\n",
       "    <tr>\n",
       "      <th>0</th>\n",
       "      <td>1</td>\n",
       "      <td>AAPL</td>\n",
       "      <td>NASDAQ</td>\n",
       "      <td>2021-12-16</td>\n",
       "      <td>172.26</td>\n",
       "      <td>0.400359</td>\n",
       "      <td>0.344236</td>\n",
       "      <td>0.294668</td>\n",
       "      <td>0.245196</td>\n",
       "      <td>0.236368</td>\n",
       "      <td>0.225542</td>\n",
       "      <td>0.215056</td>\n",
       "      <td>0.22135</td>\n",
       "    </tr>\n",
       "  </tbody>\n",
       "</table>\n",
       "</div>"
      ],
      "text/plain": [
       "   record_no symbol exchange        date   price    10d HV    20d HV  \\\n",
       "0          1   AAPL   NASDAQ  2021-12-16  172.26  0.400359  0.344236   \n",
       "\n",
       "     30d HV    60d HV    90d HV   120d HV   150d HV  180d HV  \n",
       "0  0.294668  0.245196  0.236368  0.225542  0.215056  0.22135  "
      ]
     },
     "execution_count": 4,
     "metadata": {},
     "output_type": "execute_result"
    }
   ],
   "source": [
    "getMarketData = ivol.setMethod('/equities/eod/hv')\n",
    "marketData = getMarketData(symbol='AAPL', date='2021-12-16')\n",
    "marketData"
   ]
  },
  {
   "cell_type": "code",
   "execution_count": 7,
   "id": "0ac16854",
   "metadata": {},
   "outputs": [
    {
     "name": "stdout",
     "output_type": "stream",
     "text": [
      "403 {\"code\":403,\"name\":\"Forbidden\",\"message\":\"You don't have the required tariff, access is denied\"}\n"
     ]
    },
    {
     "data": {
      "text/html": [
       "<div>\n",
       "<style scoped>\n",
       "    .dataframe tbody tr th:only-of-type {\n",
       "        vertical-align: middle;\n",
       "    }\n",
       "\n",
       "    .dataframe tbody tr th {\n",
       "        vertical-align: top;\n",
       "    }\n",
       "\n",
       "    .dataframe thead th {\n",
       "        text-align: right;\n",
       "    }\n",
       "</style>\n",
       "<table border=\"1\" class=\"dataframe\">\n",
       "  <thead>\n",
       "    <tr style=\"text-align: right;\">\n",
       "      <th></th>\n",
       "    </tr>\n",
       "  </thead>\n",
       "  <tbody>\n",
       "  </tbody>\n",
       "</table>\n",
       "</div>"
      ],
      "text/plain": [
       "Empty DataFrame\n",
       "Columns: []\n",
       "Index: []"
      ]
     },
     "execution_count": 7,
     "metadata": {},
     "output_type": "execute_result"
    }
   ],
   "source": [
    "getMarketData = ivol.setMethod('/equities/eod/single-stock-option-raw-iv')\n",
    "marketData = getMarketData(symbol='AAPL', date='2021-12-16')\n",
    "marketData"
   ]
  },
  {
   "cell_type": "code",
   "execution_count": null,
   "id": "78a9e830",
   "metadata": {},
   "outputs": [],
   "source": [
    "getMarketData = ivol.setMethod('/equities/eod/ivx')\n",
    "marketData = getMarketData(symbol='AAPL', date='2021-12-16')\n",
    "marketData"
   ]
  },
  {
   "cell_type": "code",
   "execution_count": null,
   "id": "c95e7325",
   "metadata": {},
   "outputs": [],
   "source": [
    "\n",
    "getMarketData = ivol.setMethod('/equities/eod/iv')\n",
    "marketData = getMarketData(symbol='AAPL', date='2021-12-16')\n",
    "marketData"
   ]
  },
  {
   "cell_type": "code",
   "execution_count": null,
   "id": "51066b5b",
   "metadata": {},
   "outputs": [],
   "source": [
    "getMarketData = ivol.setMethod('/equities/underlying-info')\n",
    "marketData = getMarketData(symbol='AAPL')\n",
    "marketData"
   ]
  },
  {
   "cell_type": "code",
   "execution_count": null,
   "id": "a040fc17",
   "metadata": {},
   "outputs": [],
   "source": [
    "marketData = getMarketData(symbol='AAPL', from_='2021-12-10', to='2021-12-17')\n",
    "marketData"
   ]
  },
  {
   "cell_type": "code",
   "execution_count": null,
   "id": "783dd9ed",
   "metadata": {},
   "outputs": [],
   "source": [
    "getMarketData = ivol.setMethod('/equities/option-series')\n",
    "marketData = getMarketData(symbol='AAPL', expFrom='2024-10-01', expTo='2026-10-30', strikeFrom=100, strikeTo=300, callPut='C')\n",
    "marketData"
   ]
  },
  {
   "cell_type": "code",
   "execution_count": null,
   "id": "23201599",
   "metadata": {},
   "outputs": [],
   "source": []
  },
  {
   "cell_type": "code",
   "execution_count": null,
   "id": "21d20919",
   "metadata": {},
   "outputs": [],
   "source": [
    "getMarketData = ivol.setMethod('/equities/yield')\n",
    "marketData = getMarketData(symbol='SPX')\n",
    "marketData"
   ]
  },
  {
   "cell_type": "code",
   "execution_count": null,
   "id": "e6630882",
   "metadata": {},
   "outputs": [],
   "source": [
    "getMarketData = ivol.setMethod('/equities/eod/single-stock-option')\n",
    "marketData = getMarketData(symbol='SPX   251219C04100000', from_='2021-12-16', to='2021-12-17')\n",
    "marketData"
   ]
  },
  {
   "cell_type": "code",
   "execution_count": null,
   "id": "15ffb788",
   "metadata": {},
   "outputs": [],
   "source": [
    "getOptionsChain = ivol.setMethod('/equities/option-series') \n",
    "optionsChain = getOptionsChain(symbol='SPX', expFrom='2021-12-23', expTo='2025-12-23', strikeFrom=3000, strikeTo=3010, callPut='C') \n",
    "optionsChain"
   ]
  },
  {
   "cell_type": "code",
   "execution_count": null,
   "id": "a99fd8da",
   "metadata": {},
   "outputs": [],
   "source": [
    "getOptionsChain = ivol.setMethod('/equities/eod/option-series-on-date') \n",
    "optionsChain = getOptionsChain(symbol='SPX', expFrom='2021-12-23', expTo='2025-12-23', strikeFrom=3000, strikeTo=3025, callPut='C', date='2021-09-15') \n",
    "print(optionsChain)"
   ]
  },
  {
   "cell_type": "code",
   "execution_count": null,
   "id": "d8c16670",
   "metadata": {},
   "outputs": [],
   "source": [
    "allData = pd.DataFrame() \n",
    "getMarketData = ivol.setMethod('/equities/eod/single-stock-option') \n",
    "for optionSymbol in optionsChain['optionSymbol']: \n",
    "    marketData = getMarketData(symbol=optionSymbol, from_='2021-09-01', to='2021-09-15') \n",
    "    allData = pd.concat([allData, marketData], axis=0) \n",
    "allData"
   ]
  },
  {
   "cell_type": "code",
   "execution_count": null,
   "id": "1ed8fafb",
   "metadata": {},
   "outputs": [],
   "source": [
    "allData"
   ]
  },
  {
   "cell_type": "code",
   "execution_count": null,
   "id": "dc158e15",
   "metadata": {},
   "outputs": [],
   "source": [
    "\n"
   ]
  },
  {
   "cell_type": "code",
   "execution_count": null,
   "id": "09fec5c6",
   "metadata": {},
   "outputs": [],
   "source": []
  },
  {
   "cell_type": "code",
   "execution_count": null,
   "id": "ea5ef609",
   "metadata": {},
   "outputs": [],
   "source": []
  },
  {
   "cell_type": "code",
   "execution_count": null,
   "id": "2a2b67ed",
   "metadata": {},
   "outputs": [],
   "source": [
    "def fetch_eod_stock_prices(api_key, symbol, date):\n",
    "    url = f\"https://restapi.ivolatility.com/equities/eod/stock-prices?apiKey={api_key}&symbol={symbol}&date={date}\"\n",
    "    response = requests.get(url)\n",
    "    data = response.json()\n",
    "    # Assuming the relevant data is under the 'data' key\n",
    "    df = pd.DataFrame(data['data'])\n",
    "    return df\n",
    "\n",
    "# Example usage:\n",
    "df = fetch_eod_stock_prices('fFF8EEL54op7k0DN', 'AAPL', '2021-12-16')\n",
    "print(df)"
   ]
  },
  {
   "cell_type": "code",
   "execution_count": null,
   "id": "4ab32fcc",
   "metadata": {},
   "outputs": [],
   "source": [
    "\n",
    "# OR:\n",
    "ivol.setLoginParams(username={your_IVol_username}, password={your_IVol_password}) \n",
    "\n",
    "# For example we have a task to find \"E mini S&P 500 futures\" - first step is localized required futures root \n",
    "getFutData = ivol.setMethod('/futures/eod/futures-info')\n",
    "futDataRaw = getFutData(date='2023-11-01',underlyingName='E%Mini%S%P%500%')\n",
    "print(futDataRaw) \n",
    "\n",
    "\n",
    "'''\n",
    "According to the list from the print, the most suitable one looks like futrootsymbol = \"ES\" \n",
    "and MIC = \"XCME\" (Chicago Mercantile Exchange)\n",
    "'''\n",
    "\n",
    "futuresNeed = getFutData(date='2023-11-01',rootSymbol='ES', MIC = 'XCME')\n",
    "\n",
    "# Let's now find the prices for these futures for period from '2023-11-01' to '2023-11-10'\n",
    "geFutPriceData = ivol.setMethod('/futures/single-futures')\n",
    "\n",
    "finalFutData = pd.DataFrame() \n",
    "for futSymbol in futuresNeed['futsymbol']: \n",
    "    futPriceData = geFutPriceData(symbol=futSymbol, from_='2023-11-01', to='2023-11-10')  \n",
    "    finalFutData = pd.concat([finalFutData, futPriceData], axis=0) finalFutData\n",
    "\n",
    "finalFutData"
   ]
  }
 ],
 "metadata": {
  "kernelspec": {
   "display_name": "Python 3 (ipykernel)",
   "language": "python",
   "name": "python3"
  },
  "language_info": {
   "codemirror_mode": {
    "name": "ipython",
    "version": 3
   },
   "file_extension": ".py",
   "mimetype": "text/x-python",
   "name": "python",
   "nbconvert_exporter": "python",
   "pygments_lexer": "ipython3",
   "version": "3.11.5"
  }
 },
 "nbformat": 4,
 "nbformat_minor": 5
}
